{
 "cells": [
  {
   "cell_type": "markdown",
   "metadata": {},
   "source": [
    "# Tarea Pipelines\n",
    "\n",
    "**Desarrollado por:** Orlando Patricio Chacón Molina\n",
    "\n",
    "**Fecha de creación:** 2022-03-06\n",
    "\n",
    "**Fecha de actualización:** 2022-03-06"
   ]
  },
  {
   "cell_type": "code",
   "execution_count": 10,
   "metadata": {},
   "outputs": [],
   "source": [
    "#Importar librerías\n",
    "import pandas as pd\n",
    "import numpy as np\n",
    "# Para escalar datos\n",
    "from sklearn.preprocessing import StandardScaler\n",
    "from sklearn.preprocessing import OneHotEncoder\n",
    "from sklearn.neighbors import KNeighborsClassifier\n",
    "\n",
    "from sklearn.neighbors import KNeighborsRegressor\n",
    "from sklearn.model_selection import train_test_split\n",
    "from sklearn.pipeline import make_pipeline\n",
    "from sklearn.metrics import confusion_matrix\n",
    "\n",
    "import seaborn as sns\n",
    "import matplotlib.pyplot as plt\n",
    "plt.style.use('default')\n"
   ]
  },
  {
   "cell_type": "code",
   "execution_count": 11,
   "metadata": {},
   "outputs": [
    {
     "data": {
      "text/html": [
       "<div>\n",
       "<style scoped>\n",
       "    .dataframe tbody tr th:only-of-type {\n",
       "        vertical-align: middle;\n",
       "    }\n",
       "\n",
       "    .dataframe tbody tr th {\n",
       "        vertical-align: top;\n",
       "    }\n",
       "\n",
       "    .dataframe thead th {\n",
       "        text-align: right;\n",
       "    }\n",
       "</style>\n",
       "<table border=\"1\" class=\"dataframe\">\n",
       "  <thead>\n",
       "    <tr style=\"text-align: right;\">\n",
       "      <th></th>\n",
       "      <th>0</th>\n",
       "      <th>1</th>\n",
       "      <th>2</th>\n",
       "      <th>3</th>\n",
       "      <th>4</th>\n",
       "      <th>5</th>\n",
       "      <th>6</th>\n",
       "      <th>7</th>\n",
       "      <th>8</th>\n",
       "    </tr>\n",
       "  </thead>\n",
       "  <tbody>\n",
       "    <tr>\n",
       "      <th>0</th>\n",
       "      <td>M</td>\n",
       "      <td>0.455</td>\n",
       "      <td>0.365</td>\n",
       "      <td>0.095</td>\n",
       "      <td>0.5140</td>\n",
       "      <td>0.2245</td>\n",
       "      <td>0.1010</td>\n",
       "      <td>0.150</td>\n",
       "      <td>15</td>\n",
       "    </tr>\n",
       "    <tr>\n",
       "      <th>1</th>\n",
       "      <td>M</td>\n",
       "      <td>0.350</td>\n",
       "      <td>0.265</td>\n",
       "      <td>0.090</td>\n",
       "      <td>0.2255</td>\n",
       "      <td>0.0995</td>\n",
       "      <td>0.0485</td>\n",
       "      <td>0.070</td>\n",
       "      <td>7</td>\n",
       "    </tr>\n",
       "    <tr>\n",
       "      <th>2</th>\n",
       "      <td>F</td>\n",
       "      <td>0.530</td>\n",
       "      <td>0.420</td>\n",
       "      <td>0.135</td>\n",
       "      <td>0.6770</td>\n",
       "      <td>0.2565</td>\n",
       "      <td>0.1415</td>\n",
       "      <td>0.210</td>\n",
       "      <td>9</td>\n",
       "    </tr>\n",
       "    <tr>\n",
       "      <th>3</th>\n",
       "      <td>M</td>\n",
       "      <td>0.440</td>\n",
       "      <td>0.365</td>\n",
       "      <td>0.125</td>\n",
       "      <td>0.5160</td>\n",
       "      <td>0.2155</td>\n",
       "      <td>0.1140</td>\n",
       "      <td>0.155</td>\n",
       "      <td>10</td>\n",
       "    </tr>\n",
       "    <tr>\n",
       "      <th>4</th>\n",
       "      <td>I</td>\n",
       "      <td>0.330</td>\n",
       "      <td>0.255</td>\n",
       "      <td>0.080</td>\n",
       "      <td>0.2050</td>\n",
       "      <td>0.0895</td>\n",
       "      <td>0.0395</td>\n",
       "      <td>0.055</td>\n",
       "      <td>7</td>\n",
       "    </tr>\n",
       "  </tbody>\n",
       "</table>\n",
       "</div>"
      ],
      "text/plain": [
       "   0      1      2      3       4       5       6      7   8\n",
       "0  M  0.455  0.365  0.095  0.5140  0.2245  0.1010  0.150  15\n",
       "1  M  0.350  0.265  0.090  0.2255  0.0995  0.0485  0.070   7\n",
       "2  F  0.530  0.420  0.135  0.6770  0.2565  0.1415  0.210   9\n",
       "3  M  0.440  0.365  0.125  0.5160  0.2155  0.1140  0.155  10\n",
       "4  I  0.330  0.255  0.080  0.2050  0.0895  0.0395  0.055   7"
      ]
     },
     "execution_count": 11,
     "metadata": {},
     "output_type": "execute_result"
    }
   ],
   "source": [
    "filename = 'data/abalone.data'\n",
    "df = pd.read_csv(filename, header=None)\n",
    "df.head()"
   ]
  },
  {
   "cell_type": "code",
   "execution_count": 12,
   "metadata": {},
   "outputs": [
    {
     "data": {
      "text/html": [
       "<div>\n",
       "<style scoped>\n",
       "    .dataframe tbody tr th:only-of-type {\n",
       "        vertical-align: middle;\n",
       "    }\n",
       "\n",
       "    .dataframe tbody tr th {\n",
       "        vertical-align: top;\n",
       "    }\n",
       "\n",
       "    .dataframe thead th {\n",
       "        text-align: right;\n",
       "    }\n",
       "</style>\n",
       "<table border=\"1\" class=\"dataframe\">\n",
       "  <thead>\n",
       "    <tr style=\"text-align: right;\">\n",
       "      <th></th>\n",
       "      <th>Sex</th>\n",
       "      <th>Length</th>\n",
       "      <th>Diameter</th>\n",
       "      <th>Height</th>\n",
       "      <th>WholeEeight</th>\n",
       "      <th>ShuckedWeight</th>\n",
       "      <th>isceraWeight</th>\n",
       "      <th>ShellWeight</th>\n",
       "      <th>Rings</th>\n",
       "    </tr>\n",
       "  </thead>\n",
       "  <tbody>\n",
       "    <tr>\n",
       "      <th>0</th>\n",
       "      <td>M</td>\n",
       "      <td>0.455</td>\n",
       "      <td>0.365</td>\n",
       "      <td>0.095</td>\n",
       "      <td>0.5140</td>\n",
       "      <td>0.2245</td>\n",
       "      <td>0.1010</td>\n",
       "      <td>0.150</td>\n",
       "      <td>15</td>\n",
       "    </tr>\n",
       "    <tr>\n",
       "      <th>1</th>\n",
       "      <td>M</td>\n",
       "      <td>0.350</td>\n",
       "      <td>0.265</td>\n",
       "      <td>0.090</td>\n",
       "      <td>0.2255</td>\n",
       "      <td>0.0995</td>\n",
       "      <td>0.0485</td>\n",
       "      <td>0.070</td>\n",
       "      <td>7</td>\n",
       "    </tr>\n",
       "    <tr>\n",
       "      <th>2</th>\n",
       "      <td>F</td>\n",
       "      <td>0.530</td>\n",
       "      <td>0.420</td>\n",
       "      <td>0.135</td>\n",
       "      <td>0.6770</td>\n",
       "      <td>0.2565</td>\n",
       "      <td>0.1415</td>\n",
       "      <td>0.210</td>\n",
       "      <td>9</td>\n",
       "    </tr>\n",
       "    <tr>\n",
       "      <th>3</th>\n",
       "      <td>M</td>\n",
       "      <td>0.440</td>\n",
       "      <td>0.365</td>\n",
       "      <td>0.125</td>\n",
       "      <td>0.5160</td>\n",
       "      <td>0.2155</td>\n",
       "      <td>0.1140</td>\n",
       "      <td>0.155</td>\n",
       "      <td>10</td>\n",
       "    </tr>\n",
       "    <tr>\n",
       "      <th>4</th>\n",
       "      <td>I</td>\n",
       "      <td>0.330</td>\n",
       "      <td>0.255</td>\n",
       "      <td>0.080</td>\n",
       "      <td>0.2050</td>\n",
       "      <td>0.0895</td>\n",
       "      <td>0.0395</td>\n",
       "      <td>0.055</td>\n",
       "      <td>7</td>\n",
       "    </tr>\n",
       "  </tbody>\n",
       "</table>\n",
       "</div>"
      ],
      "text/plain": [
       "  Sex  Length  Diameter  Height  WholeEeight  ShuckedWeight  isceraWeight  \\\n",
       "0   M   0.455     0.365   0.095       0.5140         0.2245        0.1010   \n",
       "1   M   0.350     0.265   0.090       0.2255         0.0995        0.0485   \n",
       "2   F   0.530     0.420   0.135       0.6770         0.2565        0.1415   \n",
       "3   M   0.440     0.365   0.125       0.5160         0.2155        0.1140   \n",
       "4   I   0.330     0.255   0.080       0.2050         0.0895        0.0395   \n",
       "\n",
       "   ShellWeight  Rings  \n",
       "0        0.150     15  \n",
       "1        0.070      7  \n",
       "2        0.210      9  \n",
       "3        0.155     10  \n",
       "4        0.055      7  "
      ]
     },
     "execution_count": 12,
     "metadata": {},
     "output_type": "execute_result"
    }
   ],
   "source": [
    "\"\"\"\n",
    "Sex\t\t        nominal\t\t\tM, F, and I (infant)\n",
    "Length\t\t    continuous\tmm\tLongest shell measurement\n",
    "Diameter\t    continuous\tmm\tperpendicular to length\n",
    "Height\t\t    continuous\tmm\twith meat in shell\n",
    "Whole weight\tcontinuous\tgrams\twhole abalone\n",
    "Shucked weight\tcontinuous\tgrams\tweight of meat\n",
    "Viscera weight\tcontinuous\tgrams\tgut weight (after bleeding)\n",
    "Shell weight\tcontinuous\tgrams\tafter being dried\n",
    "Rings\t\t    integer\t\t\t+1.5 gives the age in years\n",
    "\"\"\"\n",
    "df.columns=['Sex','Length','Diameter','Height','WholeEeight','ShuckedWeight','isceraWeight','ShellWeight','Rings']\n",
    "df.head()\n",
    "\n"
   ]
  },
  {
   "cell_type": "code",
   "execution_count": 13,
   "metadata": {},
   "outputs": [
    {
     "name": "stdout",
     "output_type": "stream",
     "text": [
      "<class 'pandas.core.frame.DataFrame'>\n",
      "RangeIndex: 4177 entries, 0 to 4176\n",
      "Data columns (total 9 columns):\n",
      " #   Column         Non-Null Count  Dtype  \n",
      "---  ------         --------------  -----  \n",
      " 0   Sex            4177 non-null   object \n",
      " 1   Length         4177 non-null   float64\n",
      " 2   Diameter       4177 non-null   float64\n",
      " 3   Height         4177 non-null   float64\n",
      " 4   WholeEeight    4177 non-null   float64\n",
      " 5   ShuckedWeight  4177 non-null   float64\n",
      " 6   isceraWeight   4177 non-null   float64\n",
      " 7   ShellWeight    4177 non-null   float64\n",
      " 8   Rings          4177 non-null   int64  \n",
      "dtypes: float64(7), int64(1), object(1)\n",
      "memory usage: 293.8+ KB\n"
     ]
    }
   ],
   "source": [
    "df.info()"
   ]
  },
  {
   "cell_type": "code",
   "execution_count": 14,
   "metadata": {},
   "outputs": [
    {
     "data": {
      "text/plain": [
       "array([7, 1, 2], dtype=int64)"
      ]
     },
     "execution_count": 14,
     "metadata": {},
     "output_type": "execute_result"
    }
   ],
   "source": [
    "df.describe()\n",
    "df['Sex'] = df['Sex'].replace({'M':7,'F':1,'I':2})\n",
    "df['Sex'].unique()"
   ]
  },
  {
   "cell_type": "code",
   "execution_count": 15,
   "metadata": {},
   "outputs": [],
   "source": [
    "X = df.loc[:,['Sex','Length','Diameter','Height','WholeEeight','ShuckedWeight','isceraWeight','ShellWeight']]\n",
    "## X = df.loc[:,['ShellWeight']]\n",
    "y = df['Rings']\n",
    "X_train, X_test, y_train, y_test = train_test_split(X,y, test_size = 0.2, random_state=3)\n"
   ]
  },
  {
   "cell_type": "markdown",
   "metadata": {},
   "source": [
    "## Estimación de la edad utilizando KNN(Regresión) con tuberías.\n",
    "\n",
    "La edad del abulón se calcula de acuerdo al número de anillos:\n",
    "\n",
    "$Edad = Rings +1.5$"
   ]
  },
  {
   "cell_type": "code",
   "execution_count": 19,
   "metadata": {},
   "outputs": [
    {
     "name": "stdout",
     "output_type": "stream",
     "text": [
      "\n",
      "\n",
      "Best N:  12\n",
      "Training accuracy: 1.0\n",
      "Testing accuracy: 0.5162885510602508\n"
     ]
    }
   ],
   "source": [
    "X = df.loc[:,['Sex','Length','Diameter','Height','WholeEeight','ShuckedWeight','isceraWeight','ShellWeight']]\n",
    "y = df['Rings']\n",
    "X_train, X_test, y_train, y_test = train_test_split(X,y, test_size = 0.2, random_state=3)\n",
    "\n",
    "bestN = 1;\n",
    "bestScore = 0\n",
    "# Buscar el número de vecinos que mejor ajuste proporcione(entre 1 y 100). \n",
    "for i in range(1, 50):\n",
    "    # Crear la tubería, definiendo las transforaciones y modelos a utilizar de forma secuencial\n",
    "    pipe = make_pipeline(StandardScaler(),KNeighborsRegressor(n_neighbors=i, weights='distance'))\n",
    "    pipe.fit(X_train,y_train)\n",
    "    iScore = pipe.score(X_test, y_test)\n",
    "    if iScore > bestScore:\n",
    "        bestScore = iScore\n",
    "        bestN = i\n",
    "pipe = make_pipeline(StandardScaler(),KNeighborsRegressor(n_neighbors=bestN, weights='distance'))\n",
    "pipe.fit(X_train,y_train)\n",
    "\n",
    "print('\\n\\nBest N: ', bestN)\n",
    "print('Training accuracy:', pipe.score(X_train, y_train))\n",
    "print('Testing accuracy:', pipe.score(X_test, y_test))"
   ]
  },
  {
   "cell_type": "markdown",
   "metadata": {},
   "source": [
    "## Estimación del sexo utilizando KNN (Clasificación) con tuberías."
   ]
  },
  {
   "cell_type": "code",
   "execution_count": 20,
   "metadata": {},
   "outputs": [
    {
     "name": "stdout",
     "output_type": "stream",
     "text": [
      "\n",
      "\n",
      "Best N:  94\n",
      "Training accuracy: 1.0\n",
      "Testing accuracy: 0.5538277511961722\n"
     ]
    },
    {
     "data": {
      "image/png": "[encoded data removed]",
      "text/plain": [
       "<Figure size 640x480 with 2 Axes>"
      ]
     },
     "metadata": {},
     "output_type": "display_data"
    }
   ],
   "source": [
    "X = df.loc[:,['Length','Diameter','Height','WholeEeight','ShuckedWeight','isceraWeight','ShellWeight','Rings']]\n",
    "y = df['Sex']\n",
    "X_train, X_test, y_train, y_test = train_test_split(X,y, test_size = 0.2, random_state=3)\n",
    "\n",
    "bestN = 1;\n",
    "bestScore = 0\n",
    "\n",
    "# Buscar el número de vecinos que mejor ajuste proporcione(entre 1 y 100). \n",
    "for i in range(1, 100):\n",
    "    # Crear la tubería, definiendo las transforaciones y modelos a utilizar de forma secuencial\n",
    "    pipe = make_pipeline(StandardScaler(),KNeighborsClassifier(n_neighbors=i, weights='distance'))\n",
    "    pipe.fit(X_train,y_train)\n",
    "    iScore = pipe.score(X_test, y_test)\n",
    "    if iScore > bestScore:\n",
    "        bestScore = iScore\n",
    "        bestN = i\n",
    "\n",
    "pipe = make_pipeline(StandardScaler(),KNeighborsClassifier(n_neighbors=bestN, weights='distance'))\n",
    "pipe.fit(X_train,y_train)\n",
    "\n",
    "confMatrix = confusion_matrix(y_test,pipe.predict(X_test))\n",
    "sns.heatmap(confMatrix, annot=True, cmap='Blues',fmt='g')\n",
    "\n",
    "print('\\n\\nBest N: ', bestN)\n",
    "print('Training accuracy:', pipe.score(X_train, y_train))\n",
    "print('Testing accuracy:', pipe.score(X_test, y_test))"
   ]
  },
  {
   "cell_type": "markdown",
   "metadata": {},
   "source": [
    "## Respuestas a preguntas\n",
    "\n",
    "1. ¿Por qué querrías ocupar una tubería para KNN?\n",
    "\n",
    "    * Minimizar la probabilidad de cometer errores.\n",
    "    * Hacer más legible el código.\n",
    "    * Mostrar de forma clara la secuencia a seguir para entrenar y probar el modelo.\n",
    "\n",
    "2. ¿Para qué otros modelos o tareas sería útil usar una tubería?\n",
    "   \n",
    "   Las tuberías resultan útiles para cualquier modelo que requiera seguir una secuencia de tareas. De este modo, todos los pasos se ensamblan en una sola sentencia, resultando el proceso más entendible y trazable. Mientras mayor sea la cantidad de transformaciones que se deban aplicar a los datos, más aportarán las tuberías a la facilidad de entendimiento del proceso.\n"
   ]
  }
 ],
 "metadata": {
  "interpreter": {
   "hash": "a83b01b8479eac520ed14fa0f1877e78f3071001fb51b4a0e5fe4170aa0c8ad5"
  },
  "kernelspec": {
   "display_name": "Python 3.6.10 64-bit ('env36': conda)",
   "language": "python",
   "name": "python3"
  },
  "language_info": {
   "codemirror_mode": {
    "name": "ipython",
    "version": 3
   },
   "file_extension": ".py",
   "mimetype": "text/x-python",
   "name": "python",
   "nbconvert_exporter": "python",
   "pygments_lexer": "ipython3",
   "version": "3.7.11"
  },
  "orig_nbformat": 4
 },
 "nbformat": 4,
 "nbformat_minor": 2
}
