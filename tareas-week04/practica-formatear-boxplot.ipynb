{
 "cells": [
  {
   "cell_type": "code",
   "execution_count": 2,
   "metadata": {},
   "outputs": [],
   "source": [
    "import matplotlib.pyplot as plt\n",
    "import pandas as pd\n",
    "import numpy as np\n",
    "import seaborn as sns"
   ]
  },
  {
   "cell_type": "code",
   "execution_count": 3,
   "metadata": {},
   "outputs": [
    {
     "data": {
      "text/html": [
       "<div>\n",
       "<style scoped>\n",
       "    .dataframe tbody tr th:only-of-type {\n",
       "        vertical-align: middle;\n",
       "    }\n",
       "\n",
       "    .dataframe tbody tr th {\n",
       "        vertical-align: top;\n",
       "    }\n",
       "\n",
       "    .dataframe thead th {\n",
       "        text-align: right;\n",
       "    }\n",
       "</style>\n",
       "<table border=\"1\" class=\"dataframe\">\n",
       "  <thead>\n",
       "    <tr style=\"text-align: right;\">\n",
       "      <th></th>\n",
       "      <th>ID</th>\n",
       "      <th>Age</th>\n",
       "      <th>Height</th>\n",
       "      <th>Team</th>\n",
       "      <th>NOC</th>\n",
       "      <th>Games</th>\n",
       "      <th>Year</th>\n",
       "      <th>Season</th>\n",
       "      <th>City</th>\n",
       "      <th>Sport</th>\n",
       "      <th>Event</th>\n",
       "      <th>Medal</th>\n",
       "    </tr>\n",
       "  </thead>\n",
       "  <tbody>\n",
       "    <tr>\n",
       "      <th>0</th>\n",
       "      <td>5</td>\n",
       "      <td>21.0</td>\n",
       "      <td>185.0</td>\n",
       "      <td>Netherlands</td>\n",
       "      <td>NED</td>\n",
       "      <td>1988 Winter</td>\n",
       "      <td>1988</td>\n",
       "      <td>Winter</td>\n",
       "      <td>Calgary</td>\n",
       "      <td>Speed Skating</td>\n",
       "      <td>Speed Skating Women's 500 metres</td>\n",
       "      <td>NaN</td>\n",
       "    </tr>\n",
       "    <tr>\n",
       "      <th>1</th>\n",
       "      <td>5</td>\n",
       "      <td>21.0</td>\n",
       "      <td>185.0</td>\n",
       "      <td>Netherlands</td>\n",
       "      <td>NED</td>\n",
       "      <td>1988 Winter</td>\n",
       "      <td>1988</td>\n",
       "      <td>Winter</td>\n",
       "      <td>Calgary</td>\n",
       "      <td>Speed Skating</td>\n",
       "      <td>Speed Skating Women's 1,000 metres</td>\n",
       "      <td>NaN</td>\n",
       "    </tr>\n",
       "    <tr>\n",
       "      <th>2</th>\n",
       "      <td>5</td>\n",
       "      <td>25.0</td>\n",
       "      <td>185.0</td>\n",
       "      <td>Netherlands</td>\n",
       "      <td>NED</td>\n",
       "      <td>1992 Winter</td>\n",
       "      <td>1992</td>\n",
       "      <td>Winter</td>\n",
       "      <td>Albertville</td>\n",
       "      <td>Speed Skating</td>\n",
       "      <td>Speed Skating Women's 500 metres</td>\n",
       "      <td>NaN</td>\n",
       "    </tr>\n",
       "    <tr>\n",
       "      <th>3</th>\n",
       "      <td>5</td>\n",
       "      <td>25.0</td>\n",
       "      <td>185.0</td>\n",
       "      <td>Netherlands</td>\n",
       "      <td>NED</td>\n",
       "      <td>1992 Winter</td>\n",
       "      <td>1992</td>\n",
       "      <td>Winter</td>\n",
       "      <td>Albertville</td>\n",
       "      <td>Speed Skating</td>\n",
       "      <td>Speed Skating Women's 1,000 metres</td>\n",
       "      <td>NaN</td>\n",
       "    </tr>\n",
       "    <tr>\n",
       "      <th>4</th>\n",
       "      <td>5</td>\n",
       "      <td>27.0</td>\n",
       "      <td>185.0</td>\n",
       "      <td>Netherlands</td>\n",
       "      <td>NED</td>\n",
       "      <td>1994 Winter</td>\n",
       "      <td>1994</td>\n",
       "      <td>Winter</td>\n",
       "      <td>Lillehammer</td>\n",
       "      <td>Speed Skating</td>\n",
       "      <td>Speed Skating Women's 500 metres</td>\n",
       "      <td>NaN</td>\n",
       "    </tr>\n",
       "  </tbody>\n",
       "</table>\n",
       "</div>"
      ],
      "text/plain": [
       "   ID   Age  Height         Team  NOC        Games  Year  Season         City  \\\n",
       "0   5  21.0   185.0  Netherlands  NED  1988 Winter  1988  Winter      Calgary   \n",
       "1   5  21.0   185.0  Netherlands  NED  1988 Winter  1988  Winter      Calgary   \n",
       "2   5  25.0   185.0  Netherlands  NED  1992 Winter  1992  Winter  Albertville   \n",
       "3   5  25.0   185.0  Netherlands  NED  1992 Winter  1992  Winter  Albertville   \n",
       "4   5  27.0   185.0  Netherlands  NED  1994 Winter  1994  Winter  Lillehammer   \n",
       "\n",
       "           Sport                               Event Medal  \n",
       "0  Speed Skating    Speed Skating Women's 500 metres   NaN  \n",
       "1  Speed Skating  Speed Skating Women's 1,000 metres   NaN  \n",
       "2  Speed Skating    Speed Skating Women's 500 metres   NaN  \n",
       "3  Speed Skating  Speed Skating Women's 1,000 metres   NaN  \n",
       "4  Speed Skating    Speed Skating Women's 500 metres   NaN  "
      ]
     },
     "execution_count": 3,
     "metadata": {},
     "output_type": "execute_result"
    }
   ],
   "source": [
    "filename = 'data/athleteEventsNoPersonal.csv'\n",
    "df = pd.read_csv(filename)\n",
    "df.head()\n"
   ]
  },
  {
   "cell_type": "code",
   "execution_count": 4,
   "metadata": {},
   "outputs": [],
   "source": [
    "heightCountryYear = pd.DataFrame(df.groupby(['NOC', 'Year', 'ID'])['Height'].mean())"
   ]
  },
  {
   "cell_type": "code",
   "execution_count": 6,
   "metadata": {},
   "outputs": [
    {
     "data": {
      "text/plain": [
       "NOC  Year\n",
       "AFG  1936                                    [nan, nan]\n",
       "     1948                          [nan, nan, nan, nan]\n",
       "     1956                                    [nan, nan]\n",
       "     1960                                       [170.0]\n",
       "     1964                                  [nan, 160.0]\n",
       "                                ...                    \n",
       "ZIM  2000                         [176.0, 169.0, 178.0]\n",
       "     2004           [176.0, 168.0, 182.0, 178.0, 190.0]\n",
       "     2008                                [173.0, 176.0]\n",
       "     2012                                       [176.0]\n",
       "     2016    [176.0, 181.0, 163.0, 171.0, 159.0, 182.0]\n",
       "Name: Height, Length: 2540, dtype: object"
      ]
     },
     "execution_count": 6,
     "metadata": {},
     "output_type": "execute_result"
    }
   ],
   "source": [
    "temp = heightCountryYear.reset_index().groupby(['NOC', 'Year'])['Height'].apply(list)\n",
    "temp"
   ]
  },
  {
   "cell_type": "code",
   "execution_count": 7,
   "metadata": {},
   "outputs": [
    {
     "data": {
      "text/html": [
       "<div>\n",
       "<style scoped>\n",
       "    .dataframe tbody tr th:only-of-type {\n",
       "        vertical-align: middle;\n",
       "    }\n",
       "\n",
       "    .dataframe tbody tr th {\n",
       "        vertical-align: top;\n",
       "    }\n",
       "\n",
       "    .dataframe thead th {\n",
       "        text-align: right;\n",
       "    }\n",
       "</style>\n",
       "<table border=\"1\" class=\"dataframe\">\n",
       "  <thead>\n",
       "    <tr style=\"text-align: right;\">\n",
       "      <th></th>\n",
       "      <th>NOC</th>\n",
       "      <th>Year</th>\n",
       "      <th>Height</th>\n",
       "    </tr>\n",
       "  </thead>\n",
       "  <tbody>\n",
       "    <tr>\n",
       "      <th>0</th>\n",
       "      <td>AFG</td>\n",
       "      <td>1936</td>\n",
       "      <td>[nan, nan]</td>\n",
       "    </tr>\n",
       "    <tr>\n",
       "      <th>1</th>\n",
       "      <td>AFG</td>\n",
       "      <td>1948</td>\n",
       "      <td>[nan, nan, nan, nan]</td>\n",
       "    </tr>\n",
       "    <tr>\n",
       "      <th>2</th>\n",
       "      <td>AFG</td>\n",
       "      <td>1956</td>\n",
       "      <td>[nan, nan]</td>\n",
       "    </tr>\n",
       "    <tr>\n",
       "      <th>3</th>\n",
       "      <td>AFG</td>\n",
       "      <td>1960</td>\n",
       "      <td>[170.0]</td>\n",
       "    </tr>\n",
       "    <tr>\n",
       "      <th>4</th>\n",
       "      <td>AFG</td>\n",
       "      <td>1964</td>\n",
       "      <td>[nan, 160.0]</td>\n",
       "    </tr>\n",
       "    <tr>\n",
       "      <th>...</th>\n",
       "      <td>...</td>\n",
       "      <td>...</td>\n",
       "      <td>...</td>\n",
       "    </tr>\n",
       "    <tr>\n",
       "      <th>2535</th>\n",
       "      <td>ZIM</td>\n",
       "      <td>2000</td>\n",
       "      <td>[176.0, 169.0, 178.0]</td>\n",
       "    </tr>\n",
       "    <tr>\n",
       "      <th>2536</th>\n",
       "      <td>ZIM</td>\n",
       "      <td>2004</td>\n",
       "      <td>[176.0, 168.0, 182.0, 178.0, 190.0]</td>\n",
       "    </tr>\n",
       "    <tr>\n",
       "      <th>2537</th>\n",
       "      <td>ZIM</td>\n",
       "      <td>2008</td>\n",
       "      <td>[173.0, 176.0]</td>\n",
       "    </tr>\n",
       "    <tr>\n",
       "      <th>2538</th>\n",
       "      <td>ZIM</td>\n",
       "      <td>2012</td>\n",
       "      <td>[176.0]</td>\n",
       "    </tr>\n",
       "    <tr>\n",
       "      <th>2539</th>\n",
       "      <td>ZIM</td>\n",
       "      <td>2016</td>\n",
       "      <td>[176.0, 181.0, 163.0, 171.0, 159.0, 182.0]</td>\n",
       "    </tr>\n",
       "  </tbody>\n",
       "</table>\n",
       "<p>2540 rows × 3 columns</p>\n",
       "</div>"
      ],
      "text/plain": [
       "      NOC  Year                                      Height\n",
       "0     AFG  1936                                  [nan, nan]\n",
       "1     AFG  1948                        [nan, nan, nan, nan]\n",
       "2     AFG  1956                                  [nan, nan]\n",
       "3     AFG  1960                                     [170.0]\n",
       "4     AFG  1964                                [nan, 160.0]\n",
       "...   ...   ...                                         ...\n",
       "2535  ZIM  2000                       [176.0, 169.0, 178.0]\n",
       "2536  ZIM  2004         [176.0, 168.0, 182.0, 178.0, 190.0]\n",
       "2537  ZIM  2008                              [173.0, 176.0]\n",
       "2538  ZIM  2012                                     [176.0]\n",
       "2539  ZIM  2016  [176.0, 181.0, 163.0, 171.0, 159.0, 182.0]\n",
       "\n",
       "[2540 rows x 3 columns]"
      ]
     },
     "execution_count": 7,
     "metadata": {},
     "output_type": "execute_result"
    }
   ],
   "source": [
    "temp = temp.reset_index()\n",
    "temp"
   ]
  },
  {
   "cell_type": "code",
   "execution_count": 63,
   "metadata": {},
   "outputs": [
    {
     "name": "stderr",
     "output_type": "stream",
     "text": [
      "C:\\Users\\Orlando\\AppData\\Local\\Temp/ipykernel_23848/1219915889.py:11: RuntimeWarning: invalid value encountered in log\n",
      "  np.logical_not(np.isnan([True,False,np.log(-1)]).any())\n"
     ]
    },
    {
     "data": {
      "text/plain": [
       "False"
      ]
     },
     "execution_count": 63,
     "metadata": {},
     "output_type": "execute_result"
    }
   ],
   "source": [
    "# np.isnan(x) evalúa si los valores del array son nan y los reemplaza por True, caso contrario False\n",
    "# de este modo, devuelve un array con elementos de tipo bool y longitud igual a x.\n",
    "#\n",
    "# .any() en np.isnan(x).any() evalúa si al menos uno de los elementos de x es nan devuelve False,\n",
    "# caso contrario devuelve True.\n",
    "\n",
    "# Eliminar cualquier país en un año determinado con participantes que no tuvieran estatura\n",
    "nanFilter = temp.loc[:, 'Height'].apply(lambda x: np.logical_not(np.isnan(x).any()))\n",
    "# filtrar USA\n",
    "usFilter = temp['NOC'] == 'USA'\n",
    "np.logical_not(np.isnan([True,False,np.log(-1)]).any())"
   ]
  },
  {
   "cell_type": "code",
   "execution_count": 64,
   "metadata": {},
   "outputs": [
    {
     "data": {
      "text/plain": [
       "0       False\n",
       "1       False\n",
       "2       False\n",
       "3       False\n",
       "4       False\n",
       "        ...  \n",
       "2535    False\n",
       "2536    False\n",
       "2537    False\n",
       "2538    False\n",
       "2539    False\n",
       "Length: 2540, dtype: bool"
      ]
     },
     "execution_count": 64,
     "metadata": {},
     "output_type": "execute_result"
    }
   ],
   "source": [
    "nanFilter & usFilter "
   ]
  },
  {
   "cell_type": "code",
   "execution_count": 65,
   "metadata": {},
   "outputs": [
    {
     "data": {
      "text/html": [
       "<div>\n",
       "<style scoped>\n",
       "    .dataframe tbody tr th:only-of-type {\n",
       "        vertical-align: middle;\n",
       "    }\n",
       "\n",
       "    .dataframe tbody tr th {\n",
       "        vertical-align: top;\n",
       "    }\n",
       "\n",
       "    .dataframe thead th {\n",
       "        text-align: right;\n",
       "    }\n",
       "</style>\n",
       "<table border=\"1\" class=\"dataframe\">\n",
       "  <thead>\n",
       "    <tr style=\"text-align: right;\">\n",
       "      <th></th>\n",
       "      <th>NOC</th>\n",
       "      <th>Year</th>\n",
       "      <th>Height</th>\n",
       "    </tr>\n",
       "  </thead>\n",
       "  <tbody>\n",
       "    <tr>\n",
       "      <th>2431</th>\n",
       "      <td>USA</td>\n",
       "      <td>1964</td>\n",
       "      <td>[163.0, 186.0, 185.0, 157.0, 168.0, 185.0, 175...</td>\n",
       "    </tr>\n",
       "    <tr>\n",
       "      <th>2432</th>\n",
       "      <td>USA</td>\n",
       "      <td>1968</td>\n",
       "      <td>[198.0, 185.0, 157.0, 188.0, 183.0, 191.0, 180...</td>\n",
       "    </tr>\n",
       "    <tr>\n",
       "      <th>2435</th>\n",
       "      <td>USA</td>\n",
       "      <td>1980</td>\n",
       "      <td>[186.0, 185.0, 175.0, 180.0, 193.0, 168.0, 170...</td>\n",
       "    </tr>\n",
       "    <tr>\n",
       "      <th>2438</th>\n",
       "      <td>USA</td>\n",
       "      <td>1992</td>\n",
       "      <td>[188.0, 170.0, 180.0, 173.0, 173.0, 183.0, 176...</td>\n",
       "    </tr>\n",
       "    <tr>\n",
       "      <th>2441</th>\n",
       "      <td>USA</td>\n",
       "      <td>1998</td>\n",
       "      <td>[178.0, 170.0, 188.0, 180.0, 183.0, 183.0, 185...</td>\n",
       "    </tr>\n",
       "    <tr>\n",
       "      <th>2442</th>\n",
       "      <td>USA</td>\n",
       "      <td>2000</td>\n",
       "      <td>[202.0, 172.0, 186.0, 164.0, 173.0, 190.0, 183...</td>\n",
       "    </tr>\n",
       "    <tr>\n",
       "      <th>2443</th>\n",
       "      <td>USA</td>\n",
       "      <td>2002</td>\n",
       "      <td>[178.0, 170.0, 185.0, 175.0, 183.0, 180.0, 167...</td>\n",
       "    </tr>\n",
       "    <tr>\n",
       "      <th>2444</th>\n",
       "      <td>USA</td>\n",
       "      <td>2004</td>\n",
       "      <td>[172.0, 170.0, 193.0, 180.0, 173.0, 193.0, 203...</td>\n",
       "    </tr>\n",
       "    <tr>\n",
       "      <th>2445</th>\n",
       "      <td>USA</td>\n",
       "      <td>2006</td>\n",
       "      <td>[178.0, 185.0, 180.0, 188.0, 180.0, 165.0, 180...</td>\n",
       "    </tr>\n",
       "    <tr>\n",
       "      <th>2446</th>\n",
       "      <td>USA</td>\n",
       "      <td>2008</td>\n",
       "      <td>[163.0, 170.0, 172.0, 193.0, 183.0, 173.0, 203...</td>\n",
       "    </tr>\n",
       "    <tr>\n",
       "      <th>2447</th>\n",
       "      <td>USA</td>\n",
       "      <td>2010</td>\n",
       "      <td>[175.0, 175.0, 185.0, 185.0, 183.0, 180.0, 175...</td>\n",
       "    </tr>\n",
       "    <tr>\n",
       "      <th>2448</th>\n",
       "      <td>USA</td>\n",
       "      <td>2012</td>\n",
       "      <td>[173.0, 173.0, 170.0, 166.0, 191.0, 175.0, 178...</td>\n",
       "    </tr>\n",
       "    <tr>\n",
       "      <th>2449</th>\n",
       "      <td>USA</td>\n",
       "      <td>2014</td>\n",
       "      <td>[175.0, 160.0, 175.0, 173.0, 183.0, 180.0, 190...</td>\n",
       "    </tr>\n",
       "    <tr>\n",
       "      <th>2450</th>\n",
       "      <td>USA</td>\n",
       "      <td>2016</td>\n",
       "      <td>[163.0, 173.0, 185.0, 170.0, 157.0, 166.0, 191...</td>\n",
       "    </tr>\n",
       "  </tbody>\n",
       "</table>\n",
       "</div>"
      ],
      "text/plain": [
       "      NOC  Year                                             Height\n",
       "2431  USA  1964  [163.0, 186.0, 185.0, 157.0, 168.0, 185.0, 175...\n",
       "2432  USA  1968  [198.0, 185.0, 157.0, 188.0, 183.0, 191.0, 180...\n",
       "2435  USA  1980  [186.0, 185.0, 175.0, 180.0, 193.0, 168.0, 170...\n",
       "2438  USA  1992  [188.0, 170.0, 180.0, 173.0, 173.0, 183.0, 176...\n",
       "2441  USA  1998  [178.0, 170.0, 188.0, 180.0, 183.0, 183.0, 185...\n",
       "2442  USA  2000  [202.0, 172.0, 186.0, 164.0, 173.0, 190.0, 183...\n",
       "2443  USA  2002  [178.0, 170.0, 185.0, 175.0, 183.0, 180.0, 167...\n",
       "2444  USA  2004  [172.0, 170.0, 193.0, 180.0, 173.0, 193.0, 203...\n",
       "2445  USA  2006  [178.0, 185.0, 180.0, 188.0, 180.0, 165.0, 180...\n",
       "2446  USA  2008  [163.0, 170.0, 172.0, 193.0, 183.0, 173.0, 203...\n",
       "2447  USA  2010  [175.0, 175.0, 185.0, 185.0, 183.0, 180.0, 175...\n",
       "2448  USA  2012  [173.0, 173.0, 170.0, 166.0, 191.0, 175.0, 178...\n",
       "2449  USA  2014  [175.0, 160.0, 175.0, 173.0, 183.0, 180.0, 190...\n",
       "2450  USA  2016  [163.0, 173.0, 185.0, 170.0, 157.0, 166.0, 191..."
      ]
     },
     "execution_count": 65,
     "metadata": {},
     "output_type": "execute_result"
    }
   ],
   "source": [
    "yearHeight = temp.loc[nanFilter & usFilter , :]\n",
    "yearHeight"
   ]
  },
  {
   "cell_type": "code",
   "execution_count": 66,
   "metadata": {},
   "outputs": [
    {
     "data": {
      "text/plain": [
       "array([1964, 1968, 1980, 1992, 1998, 2000, 2002, 2004, 2006, 2008, 2010,\n",
       "       2012, 2014, 2016], dtype=int64)"
      ]
     },
     "execution_count": 66,
     "metadata": {},
     "output_type": "execute_result"
    }
   ],
   "source": [
    "yearHeight['Year'].values"
   ]
  },
  {
   "cell_type": "code",
   "execution_count": null,
   "metadata": {},
   "outputs": [],
   "source": []
  },
  {
   "cell_type": "code",
   "execution_count": 67,
   "metadata": {},
   "outputs": [
    {
     "data": {
      "text/plain": [
       "[163.0,\n",
       " 186.0,\n",
       " 185.0,\n",
       " 157.0,\n",
       " 168.0,\n",
       " 185.0,\n",
       " 175.0,\n",
       " 175.0,\n",
       " 196.0,\n",
       " 168.0,\n",
       " 191.0,\n",
       " 196.0,\n",
       " 180.0,\n",
       " 156.0,\n",
       " 180.0,\n",
       " 186.0,\n",
       " 183.0,\n",
       " 170.0,\n",
       " 191.0,\n",
       " 178.0,\n",
       " 166.0,\n",
       " 193.0,\n",
       " 187.0,\n",
       " 191.0,\n",
       " 160.0,\n",
       " 183.0,\n",
       " 175.0,\n",
       " 190.0,\n",
       " 171.0,\n",
       " 175.0,\n",
       " 180.0,\n",
       " 175.0,\n",
       " 180.0,\n",
       " 175.0,\n",
       " 178.0,\n",
       " 175.0,\n",
       " 165.0,\n",
       " 173.0,\n",
       " 180.0,\n",
       " 196.0,\n",
       " 200.0,\n",
       " 180.0,\n",
       " 180.0,\n",
       " 188.0,\n",
       " 167.0,\n",
       " 169.0,\n",
       " 166.0,\n",
       " 188.0,\n",
       " 177.0,\n",
       " 161.0,\n",
       " 170.0,\n",
       " 180.0,\n",
       " 161.0,\n",
       " 183.0,\n",
       " 189.0,\n",
       " 175.0]"
      ]
     },
     "execution_count": 67,
     "metadata": {},
     "output_type": "execute_result"
    }
   ],
   "source": [
    "yearHeight['Height'].values[0]"
   ]
  },
  {
   "cell_type": "code",
   "execution_count": 101,
   "metadata": {},
   "outputs": [
    {
     "name": "stdout",
     "output_type": "stream",
     "text": [
      "1964\n",
      "1968\n",
      "1980\n",
      "1992\n",
      "1998\n",
      "2000\n",
      "2002\n",
      "2004\n",
      "2006\n",
      "2008\n",
      "2010\n",
      "2012\n",
      "2014\n",
      "2016\n"
     ]
    },
    {
     "data": {
      "image/png": "[encoded data removed]",
      "text/plain": [
       "<Figure size 720x720 with 1 Axes>"
      ]
     },
     "metadata": {
      "needs_background": "light"
     },
     "output_type": "display_data"
    }
   ],
   "source": [
    "fig, ax = plt.subplots(1,1, figsize=(10,10))\n",
    "for index, heights in enumerate(yearHeight['Height'].values):\n",
    "    print (yearHeight['Year'].values[index])\n",
    "    ax.boxplot(yearHeight['Height'].values[index], \n",
    "                positions=[index],\n",
    "                widths=0.6,\n",
    "                showmeans=True)\n",
    "\n"
   ]
  },
  {
   "cell_type": "code",
   "execution_count": 107,
   "metadata": {},
   "outputs": [
    {
     "name": "stdout",
     "output_type": "stream",
     "text": [
      "[163.0, 186.0, 185.0, 157.0, 168.0, 185.0, 175.0, 175.0, 196.0, 168.0, 191.0, 196.0, 180.0, 156.0, 180.0, 186.0, 183.0, 170.0, 191.0, 178.0, 166.0, 193.0, 187.0, 191.0, 160.0, 183.0, 175.0, 190.0, 171.0, 175.0, 180.0, 175.0, 180.0, 175.0, 178.0, 175.0, 165.0, 173.0, 180.0, 196.0, 200.0, 180.0, 180.0, 188.0, 167.0, 169.0, 166.0, 188.0, 177.0, 161.0, 170.0, 180.0, 161.0, 183.0, 189.0, 175.0, [...], [...]]\n",
      "[198.0, 185.0, 157.0, 188.0, 183.0, 191.0, 180.0, 183.0, 186.0, 196.0, 175.0, 186.0, 201.0, 183.0, 201.0, 178.0, 168.0, 170.0, 191.0, 180.0, 173.0, 183.0, 203.0, 165.0, 186.0, 170.0, 173.0, 188.0, 167.0, 203.0, 188.0, 181.0, 160.0, 191.0, 191.0, 175.0, 160.0, 183.0, 175.0, 165.0, 177.0, 196.0, 178.0, 175.0, 177.0, 175.0, 191.0, 180.0, 186.0, 170.0, 163.0, 175.0, 198.0, 188.0, 166.0, 165.0, 173.0, 180.0, 178.0, 170.0, 193.0, 170.0, 186.0, 183.0, 161.0, 178.0, 170.0, 161.0, 187.0, 170.0, 188.0, 193.0, [...], [...]]\n",
      "[186.0, 185.0, 175.0, 180.0, 193.0, 168.0, 170.0, 180.0, [...], [...]]\n",
      "[188.0, 170.0, 180.0, 173.0, 173.0, 183.0, 176.0, 183.0, 190.0, 164.0, 172.0, 172.0, 193.0, 173.0, 190.0, 155.0, 180.0, 170.0, 183.0, 178.0, 188.0, 176.0, 160.0, 188.0, 200.0, 161.0, 160.0, 172.0, 195.0, 183.0, 175.0, 191.0, 175.0, 188.0, 188.0, 180.0, 186.0, 167.0, 186.0, 165.0, 184.0, 174.0, 165.0, 172.0, 172.0, 195.0, 185.0, 193.0, 198.0, 172.0, 167.0, 173.0, 183.0, 172.0, 188.0, 172.0, 155.0, 188.0, 193.0, 190.0, 180.0, 188.0, 162.0, 183.0, 183.0, 183.0, 167.0, 157.0, 185.0, 183.0, 183.0, 180.0, 178.0, 157.0, 175.0, 185.0, 160.0, 173.0, 185.0, 190.0, 192.0, 180.0, 160.0, 195.0, 162.0, 175.0, 157.0, 180.0, 183.0, 193.0, 183.0, 188.0, 188.0, 178.0, 178.0, 180.0, 180.0, 165.0, 165.0, 178.0, 183.0, 180.0, 180.0, [...], [...]]\n",
      "[178.0, 170.0, 188.0, 180.0, 183.0, 183.0, 185.0, 175.0, 178.0, 180.0, 157.0, 178.0, 165.0, 190.0, 165.0, 180.0, 178.0, 173.0, 183.0, 173.0, 188.0, 170.0, 188.0, 178.0, 175.0, 173.0, 170.0, 180.0, [...], [...]]\n",
      "[202.0, 172.0, 186.0, 164.0, 173.0, 190.0, 183.0, 203.0, 198.0, 198.0, 187.0, 188.0, 164.0, 195.0, 185.0, 173.0, 178.0, 172.0, 183.0, 170.0, 175.0, 175.0, 188.0, 191.0, 182.0, 160.0, 187.0, 188.0, 154.0, 191.0, 175.0, 160.0, 175.0, 185.0, 174.0, 183.0, 198.0, 177.0, 185.0, 180.0, 170.0, 155.0, 188.0, 193.0, 155.0, 187.0, 165.0, 167.0, 193.0, 185.0, 162.0, 177.0, 180.0, 200.0, 198.0, 183.0, 187.0, 183.0, 195.0, 196.0, 177.0, 191.0, 180.0, 158.0, 192.0, 154.0, 193.0, 185.0, 170.0, 180.0, 185.0, 167.0, 183.0, 193.0, 163.0, 188.0, 198.0, 180.0, 170.0, 170.0, 173.0, 180.0, 190.0, 160.0, 180.0, 191.0, 180.0, 187.0, 188.0, 183.0, 157.0, 155.0, 190.0, 163.0, 173.0, [...], [...]]\n",
      "[178.0, 170.0, 185.0, 175.0, 183.0, 180.0, 167.0, 185.0, 160.0, 178.0, 175.0, 183.0, 175.0, 178.0, 157.0, 165.0, 190.0, 165.0, 168.0, 178.0, 180.0, 162.0, 175.0, 183.0, 183.0, 173.0, 178.0, 183.0, 188.0, 170.0, 175.0, [...], [...]]\n",
      "[172.0, 170.0, 193.0, 180.0, 173.0, 193.0, 203.0, 198.0, 188.0, 193.0, 164.0, 172.0, 164.0, 175.0, 205.0, 188.0, 187.0, 166.0, 209.0, 187.0, 175.0, 170.0, 182.0, 152.0, 175.0, 193.0, 183.0, 170.0, 168.0, 198.0, 193.0, 177.0, 177.0, 173.0, 188.0, 177.0, 187.0, 183.0, 152.0, 167.0, 188.0, 183.0, 162.0, 165.0, 183.0, 165.0, 183.0, 195.0, 188.0, 196.0, 183.0, 191.0, 180.0, 201.0, 170.0, 170.0, 154.0, 173.0, 193.0, 185.0, 170.0, 197.0, 170.0, 160.0, 180.0, 170.0, 185.0, 170.0, 180.0, 175.0, 170.0, 175.0, 191.0, 190.0, 187.0, 172.0, 177.0, 165.0, 183.0, 157.0, 191.0, 173.0, [...], [...]]\n",
      "[178.0, 185.0, 180.0, 188.0, 180.0, 165.0, 180.0, 167.0, 185.0, 188.0, 157.0, 155.0, 183.0, 175.0, 185.0, 170.0, 178.0, 170.0, 168.0, 178.0, 180.0, 162.0, 173.0, 152.0, 183.0, 173.0, 178.0, 183.0, 170.0, [...], [...]]\n",
      "[163.0, 170.0, 172.0, 193.0, 183.0, 173.0, 203.0, 183.0, 166.0, 163.0, 178.0, 208.0, 188.0, 183.0, 193.0, 193.0, 163.0, 160.0, 168.0, 180.0, 161.0, 178.0, 175.0, 152.0, 188.0, 181.0, 166.0, 183.0, 209.0, 201.0, 173.0, 175.0, 183.0, 183.0, 180.0, 178.0, 170.0, 173.0, 190.0, 168.0, 173.0, 188.0, 198.0, 193.0, 173.0, 168.0, 185.0, 165.0, 173.0, 152.0, 183.0, 185.0, 165.0, 188.0, 183.0, 163.0, 183.0, 188.0, 173.0, 196.0, 185.0, 193.0, 183.0, 191.0, 180.0, 196.0, 178.0, 175.0, 201.0, 170.0, 173.0, 180.0, 206.0, 197.0, 188.0, 180.0, 170.0, 183.0, 173.0, 180.0, 163.0, 168.0, 191.0, 170.0, 175.0, 191.0, 201.0, 185.0, 191.0, 178.0, 191.0, 165.0, 173.0, [...], [...]]\n",
      "[175.0, 175.0, 185.0, 185.0, 183.0, 180.0, 175.0, 188.0, 170.0, 168.0, 183.0, 183.0, 185.0, 163.0, 183.0, 157.0, 170.0, 183.0, 178.0, 180.0, 152.0, 168.0, 170.0, 172.0, 170.0, 152.0, 183.0, 152.0, 183.0, 165.0, 170.0, [...], [...]]\n",
      "[173.0, 173.0, 170.0, 166.0, 191.0, 175.0, 178.0, 173.0, 198.0, 183.0, 175.0, 193.0, 188.0, 178.0, 193.0, 160.0, 198.0, 161.0, 208.0, 178.0, 170.0, 157.0, 185.0, 206.0, 188.0, 181.0, 191.0, 166.0, 168.0, 201.0, 173.0, 180.0, 155.0, 183.0, 180.0, 193.0, 165.0, 168.0, 206.0, 168.0, 188.0, 161.0, 193.0, 168.0, 170.0, 188.0, 180.0, 199.0, 165.0, 185.0, 193.0, 188.0, 166.0, 165.0, 188.0, 188.0, 183.0, 163.0, 165.0, 193.0, 183.0, 170.0, 191.0, 180.0, 196.0, 168.0, 201.0, 178.0, 168.0, 170.0, 173.0, 193.0, 206.0, 201.0, 183.0, 180.0, 185.0, 170.0, 173.0, 168.0, 165.0, 155.0, 191.0, 185.0, 160.0, 163.0, 191.0, 191.0, 168.0, 180.0, 173.0, [...], [...]]\n",
      "[175.0, 160.0, 175.0, 173.0, 183.0, 180.0, 190.0, 180.0, 157.0, 188.0, 170.0, 163.0, 168.0, 175.0, 183.0, 183.0, 180.0, 163.0, 183.0, 183.0, 180.0, 175.0, 168.0, 170.0, 193.0, 173.0, 160.0, 160.0, 170.0, 183.0, 188.0, 173.0, 170.0, 185.0, 170.0, [...], [...]]\n",
      "[163.0, 173.0, 185.0, 170.0, 157.0, 166.0, 191.0, 168.0, 178.0, 178.0, 193.0, 163.0, 210.0, 160.0, 161.0, 185.0, 165.0, 178.0, 195.0, 157.0, 206.0, 160.0, 188.0, 181.0, 180.0, 191.0, 168.0, 173.0, 186.0, 166.0, 170.0, 168.0, 178.0, 163.0, 201.0, 173.0, 191.0, 168.0, 165.0, 173.0, 190.0, 198.0, 168.0, 191.0, 188.0, 163.0, 193.0, 173.0, 161.0, 185.0, 180.0, 178.0, 183.0, 199.0, 178.0, 170.0, 168.0, 175.0, 185.0, 166.0, 178.0, 191.0, 183.0, 181.0, 165.0, 163.0, 198.0, 196.0, 188.0, 170.0, 168.0, 173.0, 168.0, 175.0, 168.0, 193.0, 175.0, 201.0, 178.0, 183.0, 170.0, 203.0, 176.0, 160.0, 178.0, 175.0, 173.0, 193.0, [...], [...]]\n",
      "[163.0, 173.0, 185.0, 170.0, 157.0, 166.0, 191.0, 168.0, 178.0, 178.0, 193.0, 163.0, 210.0, 160.0, 161.0, 185.0, 165.0, 178.0, 195.0, 157.0, 206.0, 160.0, 188.0, 181.0, 180.0, 191.0, 168.0, 173.0, 186.0, 166.0, 170.0, 168.0, 178.0, 163.0, 201.0, 173.0, 191.0, 168.0, 165.0, 173.0, 190.0, 198.0, 168.0, 191.0, 188.0, 163.0, 193.0, 173.0, 161.0, 185.0, 180.0, 178.0, 183.0, 199.0, 178.0, 170.0, 168.0, 175.0, 185.0, 166.0, 178.0, 191.0, 183.0, 181.0, 165.0, 163.0, 198.0, 196.0, 188.0, 170.0, 168.0, 173.0, 168.0, 175.0, 168.0, 193.0, 175.0, 201.0, 178.0, 183.0, 170.0, 203.0, 176.0, 160.0, 178.0, 175.0, 173.0, 193.0, [...], [...]]\n"
     ]
    },
    {
     "name": "stderr",
     "output_type": "stream",
     "text": [
      "C:\\ProgramData\\Anaconda3\\lib\\site-packages\\numpy\\core\\_asarray.py:171: VisibleDeprecationWarning: Creating an ndarray from ragged nested sequences (which is a list-or-tuple of lists-or-tuples-or ndarrays with different lengths or shapes) is deprecated. If you meant to do this, you must specify 'dtype=object' when creating the ndarray.\n",
      "  return array(a, dtype, copy=False, order=order, subok=True)\n"
     ]
    },
    {
     "ename": "TypeError",
     "evalue": "unsupported operand type(s) for +: 'float' and 'list'",
     "output_type": "error",
     "traceback": [
      "\u001b[1;31m---------------------------------------------------------------------------\u001b[0m",
      "\u001b[1;31mTypeError\u001b[0m                                 Traceback (most recent call last)",
      "\u001b[1;32m~\\AppData\\Local\\Temp/ipykernel_23848/3828267776.py\u001b[0m in \u001b[0;36m<module>\u001b[1;34m\u001b[0m\n\u001b[0;32m      7\u001b[0m \u001b[0mprint\u001b[0m\u001b[1;33m(\u001b[0m\u001b[0mheights\u001b[0m\u001b[1;33m)\u001b[0m\u001b[1;33m\u001b[0m\u001b[1;33m\u001b[0m\u001b[0m\n\u001b[0;32m      8\u001b[0m \u001b[1;33m\u001b[0m\u001b[0m\n\u001b[1;32m----> 9\u001b[1;33m ax.boxplot(heights, \n\u001b[0m\u001b[0;32m     10\u001b[0m                 \u001b[0mpositions\u001b[0m\u001b[1;33m=\u001b[0m\u001b[0mpositions\u001b[0m\u001b[1;33m,\u001b[0m\u001b[1;33m\u001b[0m\u001b[1;33m\u001b[0m\u001b[0m\n\u001b[0;32m     11\u001b[0m                 \u001b[0mwidths\u001b[0m\u001b[1;33m=\u001b[0m\u001b[1;36m0.6\u001b[0m\u001b[1;33m,\u001b[0m\u001b[1;33m\u001b[0m\u001b[1;33m\u001b[0m\u001b[0m\n",
      "\u001b[1;32mC:\\ProgramData\\Anaconda3\\lib\\site-packages\\matplotlib\\__init__.py\u001b[0m in \u001b[0;36minner\u001b[1;34m(ax, data, *args, **kwargs)\u001b[0m\n\u001b[0;32m   1359\u001b[0m     \u001b[1;32mdef\u001b[0m \u001b[0minner\u001b[0m\u001b[1;33m(\u001b[0m\u001b[0max\u001b[0m\u001b[1;33m,\u001b[0m \u001b[1;33m*\u001b[0m\u001b[0margs\u001b[0m\u001b[1;33m,\u001b[0m \u001b[0mdata\u001b[0m\u001b[1;33m=\u001b[0m\u001b[1;32mNone\u001b[0m\u001b[1;33m,\u001b[0m \u001b[1;33m**\u001b[0m\u001b[0mkwargs\u001b[0m\u001b[1;33m)\u001b[0m\u001b[1;33m:\u001b[0m\u001b[1;33m\u001b[0m\u001b[1;33m\u001b[0m\u001b[0m\n\u001b[0;32m   1360\u001b[0m         \u001b[1;32mif\u001b[0m \u001b[0mdata\u001b[0m \u001b[1;32mis\u001b[0m \u001b[1;32mNone\u001b[0m\u001b[1;33m:\u001b[0m\u001b[1;33m\u001b[0m\u001b[1;33m\u001b[0m\u001b[0m\n\u001b[1;32m-> 1361\u001b[1;33m             \u001b[1;32mreturn\u001b[0m \u001b[0mfunc\u001b[0m\u001b[1;33m(\u001b[0m\u001b[0max\u001b[0m\u001b[1;33m,\u001b[0m \u001b[1;33m*\u001b[0m\u001b[0mmap\u001b[0m\u001b[1;33m(\u001b[0m\u001b[0msanitize_sequence\u001b[0m\u001b[1;33m,\u001b[0m \u001b[0margs\u001b[0m\u001b[1;33m)\u001b[0m\u001b[1;33m,\u001b[0m \u001b[1;33m**\u001b[0m\u001b[0mkwargs\u001b[0m\u001b[1;33m)\u001b[0m\u001b[1;33m\u001b[0m\u001b[1;33m\u001b[0m\u001b[0m\n\u001b[0m\u001b[0;32m   1362\u001b[0m \u001b[1;33m\u001b[0m\u001b[0m\n\u001b[0;32m   1363\u001b[0m         \u001b[0mbound\u001b[0m \u001b[1;33m=\u001b[0m \u001b[0mnew_sig\u001b[0m\u001b[1;33m.\u001b[0m\u001b[0mbind\u001b[0m\u001b[1;33m(\u001b[0m\u001b[0max\u001b[0m\u001b[1;33m,\u001b[0m \u001b[1;33m*\u001b[0m\u001b[0margs\u001b[0m\u001b[1;33m,\u001b[0m \u001b[1;33m**\u001b[0m\u001b[0mkwargs\u001b[0m\u001b[1;33m)\u001b[0m\u001b[1;33m\u001b[0m\u001b[1;33m\u001b[0m\u001b[0m\n",
      "\u001b[1;32mC:\\ProgramData\\Anaconda3\\lib\\site-packages\\matplotlib\\axes\\_axes.py\u001b[0m in \u001b[0;36mboxplot\u001b[1;34m(self, x, notch, sym, vert, whis, positions, widths, patch_artist, bootstrap, usermedians, conf_intervals, meanline, showmeans, showcaps, showbox, showfliers, boxprops, labels, flierprops, medianprops, meanprops, capprops, whiskerprops, manage_ticks, autorange, zorder)\u001b[0m\n\u001b[0;32m   3743\u001b[0m             \u001b[0mbootstrap\u001b[0m \u001b[1;33m=\u001b[0m \u001b[0mrcParams\u001b[0m\u001b[1;33m[\u001b[0m\u001b[1;34m'boxplot.bootstrap'\u001b[0m\u001b[1;33m]\u001b[0m\u001b[1;33m\u001b[0m\u001b[1;33m\u001b[0m\u001b[0m\n\u001b[0;32m   3744\u001b[0m \u001b[1;33m\u001b[0m\u001b[0m\n\u001b[1;32m-> 3745\u001b[1;33m         bxpstats = cbook.boxplot_stats(x, whis=whis, bootstrap=bootstrap,\n\u001b[0m\u001b[0;32m   3746\u001b[0m                                        labels=labels, autorange=autorange)\n\u001b[0;32m   3747\u001b[0m         \u001b[1;32mif\u001b[0m \u001b[0mnotch\u001b[0m \u001b[1;32mis\u001b[0m \u001b[1;32mNone\u001b[0m\u001b[1;33m:\u001b[0m\u001b[1;33m\u001b[0m\u001b[1;33m\u001b[0m\u001b[0m\n",
      "\u001b[1;32mC:\\ProgramData\\Anaconda3\\lib\\site-packages\\matplotlib\\cbook\\__init__.py\u001b[0m in \u001b[0;36mboxplot_stats\u001b[1;34m(X, whis, bootstrap, labels, autorange)\u001b[0m\n\u001b[0;32m   1228\u001b[0m \u001b[1;33m\u001b[0m\u001b[0m\n\u001b[0;32m   1229\u001b[0m         \u001b[1;31m# arithmetic mean\u001b[0m\u001b[1;33m\u001b[0m\u001b[1;33m\u001b[0m\u001b[0m\n\u001b[1;32m-> 1230\u001b[1;33m         \u001b[0mstats\u001b[0m\u001b[1;33m[\u001b[0m\u001b[1;34m'mean'\u001b[0m\u001b[1;33m]\u001b[0m \u001b[1;33m=\u001b[0m \u001b[0mnp\u001b[0m\u001b[1;33m.\u001b[0m\u001b[0mmean\u001b[0m\u001b[1;33m(\u001b[0m\u001b[0mx\u001b[0m\u001b[1;33m)\u001b[0m\u001b[1;33m\u001b[0m\u001b[1;33m\u001b[0m\u001b[0m\n\u001b[0m\u001b[0;32m   1231\u001b[0m \u001b[1;33m\u001b[0m\u001b[0m\n\u001b[0;32m   1232\u001b[0m         \u001b[1;31m# medians and quartiles\u001b[0m\u001b[1;33m\u001b[0m\u001b[1;33m\u001b[0m\u001b[0m\n",
      "\u001b[1;32m<__array_function__ internals>\u001b[0m in \u001b[0;36mmean\u001b[1;34m(*args, **kwargs)\u001b[0m\n",
      "\u001b[1;32mC:\\ProgramData\\Anaconda3\\lib\\site-packages\\numpy\\core\\fromnumeric.py\u001b[0m in \u001b[0;36mmean\u001b[1;34m(a, axis, dtype, out, keepdims, where)\u001b[0m\n\u001b[0;32m   3417\u001b[0m             \u001b[1;32mreturn\u001b[0m \u001b[0mmean\u001b[0m\u001b[1;33m(\u001b[0m\u001b[0maxis\u001b[0m\u001b[1;33m=\u001b[0m\u001b[0maxis\u001b[0m\u001b[1;33m,\u001b[0m \u001b[0mdtype\u001b[0m\u001b[1;33m=\u001b[0m\u001b[0mdtype\u001b[0m\u001b[1;33m,\u001b[0m \u001b[0mout\u001b[0m\u001b[1;33m=\u001b[0m\u001b[0mout\u001b[0m\u001b[1;33m,\u001b[0m \u001b[1;33m**\u001b[0m\u001b[0mkwargs\u001b[0m\u001b[1;33m)\u001b[0m\u001b[1;33m\u001b[0m\u001b[1;33m\u001b[0m\u001b[0m\n\u001b[0;32m   3418\u001b[0m \u001b[1;33m\u001b[0m\u001b[0m\n\u001b[1;32m-> 3419\u001b[1;33m     return _methods._mean(a, axis=axis, dtype=dtype,\n\u001b[0m\u001b[0;32m   3420\u001b[0m                           out=out, **kwargs)\n\u001b[0;32m   3421\u001b[0m \u001b[1;33m\u001b[0m\u001b[0m\n",
      "\u001b[1;32mC:\\ProgramData\\Anaconda3\\lib\\site-packages\\numpy\\core\\_methods.py\u001b[0m in \u001b[0;36m_mean\u001b[1;34m(a, axis, dtype, out, keepdims, where)\u001b[0m\n\u001b[0;32m    176\u001b[0m             \u001b[0mis_float16_result\u001b[0m \u001b[1;33m=\u001b[0m \u001b[1;32mTrue\u001b[0m\u001b[1;33m\u001b[0m\u001b[1;33m\u001b[0m\u001b[0m\n\u001b[0;32m    177\u001b[0m \u001b[1;33m\u001b[0m\u001b[0m\n\u001b[1;32m--> 178\u001b[1;33m     \u001b[0mret\u001b[0m \u001b[1;33m=\u001b[0m \u001b[0mumr_sum\u001b[0m\u001b[1;33m(\u001b[0m\u001b[0marr\u001b[0m\u001b[1;33m,\u001b[0m \u001b[0maxis\u001b[0m\u001b[1;33m,\u001b[0m \u001b[0mdtype\u001b[0m\u001b[1;33m,\u001b[0m \u001b[0mout\u001b[0m\u001b[1;33m,\u001b[0m \u001b[0mkeepdims\u001b[0m\u001b[1;33m,\u001b[0m \u001b[0mwhere\u001b[0m\u001b[1;33m=\u001b[0m\u001b[0mwhere\u001b[0m\u001b[1;33m)\u001b[0m\u001b[1;33m\u001b[0m\u001b[1;33m\u001b[0m\u001b[0m\n\u001b[0m\u001b[0;32m    179\u001b[0m     \u001b[1;32mif\u001b[0m \u001b[0misinstance\u001b[0m\u001b[1;33m(\u001b[0m\u001b[0mret\u001b[0m\u001b[1;33m,\u001b[0m \u001b[0mmu\u001b[0m\u001b[1;33m.\u001b[0m\u001b[0mndarray\u001b[0m\u001b[1;33m)\u001b[0m\u001b[1;33m:\u001b[0m\u001b[1;33m\u001b[0m\u001b[1;33m\u001b[0m\u001b[0m\n\u001b[0;32m    180\u001b[0m         ret = um.true_divide(\n",
      "\u001b[1;31mTypeError\u001b[0m: unsupported operand type(s) for +: 'float' and 'list'"
     ]
    },
    {
     "data": {
      "image/png": "[encoded data removed]",
      "text/plain": [
       "<Figure size 720x720 with 1 Axes>"
      ]
     },
     "metadata": {
      "needs_background": "light"
     },
     "output_type": "display_data"
    }
   ],
   "source": [
    "fig, ax = plt.subplots(1,1, figsize=(10,10))\n",
    "heights = []\n",
    "positions = []\n",
    "for index, heights in enumerate(yearHeight['Height'].values):\n",
    "    print (yearHeight['Height'].values[index])\n",
    "    positions.append(index)\n",
    "print(heights)\n",
    "\n",
    "ax.boxplot(heights, \n",
    "                positions=positions,\n",
    "                widths=0.6,\n",
    "                showmeans=True)\n"
   ]
  },
  {
   "cell_type": "code",
   "execution_count": null,
   "metadata": {},
   "outputs": [],
   "source": []
  }
 ],
 "metadata": {
  "interpreter": {
   "hash": "b3ba2566441a7c06988d0923437866b63cedc61552a5af99d1f4fb67d367b25f"
  },
  "kernelspec": {
   "display_name": "Python 3.9.7 64-bit ('base': conda)",
   "language": "python",
   "name": "python3"
  },
  "language_info": {
   "codemirror_mode": {
    "name": "ipython",
    "version": 3
   },
   "file_extension": ".py",
   "mimetype": "text/x-python",
   "name": "python",
   "nbconvert_exporter": "python",
   "pygments_lexer": "ipython3",
   "version": "3.9.7"
  },
  "orig_nbformat": 4
 },
 "nbformat": 4,
 "nbformat_minor": 2
}
