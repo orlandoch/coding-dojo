{
 "cells": [
  {
   "cell_type": "markdown",
   "metadata": {},
   "source": [
    "## Ejercicio sobre conceptos básicos de SQL\n",
    "\n",
    "**Desarrollado por:** Orlando Patricio Chacón Molina\n",
    "\n",
    "**Fecha de creación:** 2022-03-28\n",
    "\n",
    "**Fecha de actualización:** 2022-03-28\n",
    "\n",
    "SQLAlchemy es un envoltorio para Python que nos permite escribir consultas SQL en Python. Lo usaremos para practicar los conceptos básicos de SQL en Python.\n",
    "\n",
    "Primero, necesitamos conectarnos a una base de datos. En este paso, solo leeremos una tabla en SQL. Crearemos una base de datos SQLite y cargaremos nuestros datos, que puedes descargar desde aquí.\n",
    "\n",
    "Los datos (de esta fuente) describe detalles sobre diferentes colegios.\n",
    "\n",
    "### Crea la Base de datos SQLite\n",
    "\n",
    "Para crear una base de datos SQLite utilizando SQLAlchemy,, necesitamos cargar los datos en Google Drive y leerlos como un marco de datos de Pandas. El código a continuación carga los datos, crea una conexión con un motor de SQLite y carga los datos como una tabla SQLite. Para tu conveniencia, acá  hay un documento con código para que empieces. Has una copia del documento para editarla."
   ]
  },
  {
   "cell_type": "code",
   "execution_count": null,
   "metadata": {},
   "outputs": [],
   "source": [
    "# imports\n",
    "import pandas as pd\n",
    "from sqlalchemy import create_engine\n",
    "\n",
    "# cargar datos: ¡cambia la ruta para que coincida con tu unidad!\n",
    "school = pd.read_csv('data/School Details.csv')\n",
    "# Asegúrate de que estén cargados correctamente\n",
    "school.head(2)\n",
    "# crear motor sqlite\n",
    "engine = create_engine('sqlite:///school.db', echo=True)\n",
    "# crear conexión con el motor\n",
    "conn = engine.connect()\n",
    "\n",
    "# agregar marco de datos como una tabla en sqlite\n",
    "sqlite_table = \"school_details\"\n",
    "school.to_sql(sqlite_table, conn, if_exists='fail')\n"
   ]
  },
  {
   "cell_type": "code",
   "execution_count": 2,
   "metadata": {},
   "outputs": [
    {
     "name": "stdout",
     "output_type": "stream",
     "text": [
      "2022-03-28 18:18:29,085 INFO sqlalchemy.engine.Engine SELECT * \n",
      "FROM school_details\n",
      "\n",
      "2022-03-28 18:18:29,086 INFO sqlalchemy.engine.Engine [raw sql] ()\n"
     ]
    },
    {
     "data": {
      "text/plain": [
       "array(['index', 'DistrictName', 'EstablishmentCode', 'EstablishmentName',\n",
       "       'BRCName', 'CRCName', 'SchoolLevel', 'ManagementName',\n",
       "       'LocalityHabitation', 'SubdivisionName', 'ConstituencyName',\n",
       "       'RevenueBlockName', 'CivicBodyName', 'WardName', 'PostOfficeName',\n",
       "       'PhoneNo', 'FaxNo', 'EmailID', 'Website', 'LocatedInRuralOrUrban',\n",
       "       'DiseCode', 'EstablishedDate', 'DistrictHQDistance (in Km)',\n",
       "       'CRCDistance (in Km)', 'BACDistance (in Km)', 'IsRecognized',\n",
       "       'RecognizedBy', 'ContactPersonName', 'LowestClass', 'HighestClass',\n",
       "       'BoardName'], dtype=object)"
      ]
     },
     "execution_count": 2,
     "metadata": {},
     "output_type": "execute_result"
    }
   ],
   "source": [
    "# Escribe tu consulta SQL en esta cadena\n",
    "sql = \"\"\"SELECT * \n",
    "FROM school_details\n",
    "\"\"\"\n",
    "# Lee la consulta sql en pandas para ver los resultados\n",
    "df = pd.read_sql_query(sql, engine)\n",
    "df.columns.values"
   ]
  },
  {
   "cell_type": "markdown",
   "metadata": {},
   "source": [
    "## Llama las columnas NombreEstablecimiento, NivelEscolar y SitioWeb."
   ]
  },
  {
   "cell_type": "code",
   "execution_count": 3,
   "metadata": {},
   "outputs": [
    {
     "name": "stdout",
     "output_type": "stream",
     "text": [
      "2022-03-28 18:18:31,334 INFO sqlalchemy.engine.Engine SELECT EstablishmentName, SchoolLevel, Website\n",
      "FROM school_details\n",
      "\n",
      "2022-03-28 18:18:31,335 INFO sqlalchemy.engine.Engine [raw sql] ()\n"
     ]
    },
    {
     "data": {
      "text/html": [
       "<div>\n",
       "<style scoped>\n",
       "    .dataframe tbody tr th:only-of-type {\n",
       "        vertical-align: middle;\n",
       "    }\n",
       "\n",
       "    .dataframe tbody tr th {\n",
       "        vertical-align: top;\n",
       "    }\n",
       "\n",
       "    .dataframe thead th {\n",
       "        text-align: right;\n",
       "    }\n",
       "</style>\n",
       "<table border=\"1\" class=\"dataframe\">\n",
       "  <thead>\n",
       "    <tr style=\"text-align: right;\">\n",
       "      <th></th>\n",
       "      <th>EstablishmentName</th>\n",
       "      <th>SchoolLevel</th>\n",
       "      <th>Website</th>\n",
       "    </tr>\n",
       "  </thead>\n",
       "  <tbody>\n",
       "    <tr>\n",
       "      <th>0</th>\n",
       "      <td>BUDANG GOVERNMENT PRIMARY SCHOOL (E)</td>\n",
       "      <td>PS</td>\n",
       "      <td>None</td>\n",
       "    </tr>\n",
       "    <tr>\n",
       "      <th>1</th>\n",
       "      <td>CENTRAL PENDAM GOVERNMENT SENIOR SECONDARY SCHOOL</td>\n",
       "      <td>SSS</td>\n",
       "      <td>None</td>\n",
       "    </tr>\n",
       "    <tr>\n",
       "      <th>2</th>\n",
       "      <td>CENTRAL POINT ACADEMY, CENTRAL PENDAM</td>\n",
       "      <td>SS</td>\n",
       "      <td>www.facebook.com/khanalkeshav (Group-CPA)</td>\n",
       "    </tr>\n",
       "    <tr>\n",
       "      <th>3</th>\n",
       "      <td>CHEURIBOTEY GOVERNMENT JUNIOR HIGH SCHOOL (E)</td>\n",
       "      <td>JHS</td>\n",
       "      <td>None</td>\n",
       "    </tr>\n",
       "    <tr>\n",
       "      <th>4</th>\n",
       "      <td>DUGA GOVERNMENT SECONDARY SCHOOL</td>\n",
       "      <td>SS</td>\n",
       "      <td>None</td>\n",
       "    </tr>\n",
       "  </tbody>\n",
       "</table>\n",
       "</div>"
      ],
      "text/plain": [
       "                                   EstablishmentName SchoolLevel  \\\n",
       "0               BUDANG GOVERNMENT PRIMARY SCHOOL (E)          PS   \n",
       "1  CENTRAL PENDAM GOVERNMENT SENIOR SECONDARY SCHOOL         SSS   \n",
       "2              CENTRAL POINT ACADEMY, CENTRAL PENDAM          SS   \n",
       "3      CHEURIBOTEY GOVERNMENT JUNIOR HIGH SCHOOL (E)         JHS   \n",
       "4                   DUGA GOVERNMENT SECONDARY SCHOOL          SS   \n",
       "\n",
       "                                     Website  \n",
       "0                                       None  \n",
       "1                                       None  \n",
       "2  www.facebook.com/khanalkeshav (Group-CPA)  \n",
       "3                                       None  \n",
       "4                                       None  "
      ]
     },
     "execution_count": 3,
     "metadata": {},
     "output_type": "execute_result"
    }
   ],
   "source": [
    "# Escribe tu consulta SQL en esta cadena\n",
    "sql = \"\"\"SELECT EstablishmentName, SchoolLevel, Website\n",
    "FROM school_details\n",
    "\"\"\"\n",
    "# Lee la consulta sql en pandas para ver los resultados\n",
    "df = pd.read_sql_query(sql, engine)\n",
    "df.head()"
   ]
  },
  {
   "cell_type": "markdown",
   "metadata": {},
   "source": [
    "## Muestra el NombreEstablecimiento y DistanciaDistrito (en km) de colegios en los que DistanciaDistrito (en km) es más de 100 km.0"
   ]
  },
  {
   "cell_type": "code",
   "execution_count": 4,
   "metadata": {},
   "outputs": [
    {
     "name": "stdout",
     "output_type": "stream",
     "text": [
      "2022-03-28 18:18:32,497 INFO sqlalchemy.engine.Engine SELECT EstablishmentName, [DistrictHQDistance (in Km)]\n",
      "FROM school_details\n",
      "WHERE [DistrictHQDistance (in Km)] > 100\n",
      "\n",
      "2022-03-28 18:18:32,497 INFO sqlalchemy.engine.Engine [raw sql] ()\n"
     ]
    },
    {
     "data": {
      "text/html": [
       "<div>\n",
       "<style scoped>\n",
       "    .dataframe tbody tr th:only-of-type {\n",
       "        vertical-align: middle;\n",
       "    }\n",
       "\n",
       "    .dataframe tbody tr th {\n",
       "        vertical-align: top;\n",
       "    }\n",
       "\n",
       "    .dataframe thead th {\n",
       "        text-align: right;\n",
       "    }\n",
       "</style>\n",
       "<table border=\"1\" class=\"dataframe\">\n",
       "  <thead>\n",
       "    <tr style=\"text-align: right;\">\n",
       "      <th></th>\n",
       "      <th>EstablishmentName</th>\n",
       "      <th>DistrictHQDistance (in Km)</th>\n",
       "    </tr>\n",
       "  </thead>\n",
       "  <tbody>\n",
       "    <tr>\n",
       "      <th>0</th>\n",
       "      <td>DODACHEN GOVERNMENT PRIMARY SCHOOL</td>\n",
       "      <td>150.0</td>\n",
       "    </tr>\n",
       "    <tr>\n",
       "      <th>1</th>\n",
       "      <td>DEOLING GOVERNMENT PRIMARY SCHOOL</td>\n",
       "      <td>107.0</td>\n",
       "    </tr>\n",
       "    <tr>\n",
       "      <th>2</th>\n",
       "      <td>PEMA TSEL ACADEMY(PHADAMCHEN)</td>\n",
       "      <td>110.0</td>\n",
       "    </tr>\n",
       "    <tr>\n",
       "      <th>3</th>\n",
       "      <td>ZULUCK GOVERNMENT PRIMARY SCHOOL</td>\n",
       "      <td>120.0</td>\n",
       "    </tr>\n",
       "    <tr>\n",
       "      <th>4</th>\n",
       "      <td>BHARENG GOVERNMENT PRIMARY SCHOOL</td>\n",
       "      <td>150.0</td>\n",
       "    </tr>\n",
       "  </tbody>\n",
       "</table>\n",
       "</div>"
      ],
      "text/plain": [
       "                    EstablishmentName  DistrictHQDistance (in Km)\n",
       "0  DODACHEN GOVERNMENT PRIMARY SCHOOL                       150.0\n",
       "1   DEOLING GOVERNMENT PRIMARY SCHOOL                       107.0\n",
       "2       PEMA TSEL ACADEMY(PHADAMCHEN)                       110.0\n",
       "3    ZULUCK GOVERNMENT PRIMARY SCHOOL                       120.0\n",
       "4   BHARENG GOVERNMENT PRIMARY SCHOOL                       150.0"
      ]
     },
     "execution_count": 4,
     "metadata": {},
     "output_type": "execute_result"
    }
   ],
   "source": [
    "# Escribe tu consulta SQL en esta cadena\n",
    "sql = \"\"\"SELECT EstablishmentName, [DistrictHQDistance (in Km)]\n",
    "FROM school_details\n",
    "WHERE [DistrictHQDistance (in Km)] > 100\n",
    "\"\"\"\n",
    "# Lee la consulta sql en pandas para ver los resultados\n",
    "df = pd.read_sql_query(sql, engine)\n",
    "df.head()"
   ]
  },
  {
   "cell_type": "markdown",
   "metadata": {},
   "source": [
    "## Muestra NombreEstablecimiento, NivelEscolar, DistanciaDistrito (en km) de colegios donde el nivel escolar es Junior High School."
   ]
  },
  {
   "cell_type": "code",
   "execution_count": 5,
   "metadata": {},
   "outputs": [
    {
     "name": "stdout",
     "output_type": "stream",
     "text": [
      "2022-03-28 18:18:33,319 INFO sqlalchemy.engine.Engine SELECT EstablishmentName, SchoolLevel, [DistrictHQDistance (in Km)]\n",
      "FROM school_details\n",
      "WHERE SchoolLevel == 'JHS'\n",
      "\n",
      "2022-03-28 18:18:33,319 INFO sqlalchemy.engine.Engine [raw sql] ()\n"
     ]
    },
    {
     "data": {
      "text/html": [
       "<div>\n",
       "<style scoped>\n",
       "    .dataframe tbody tr th:only-of-type {\n",
       "        vertical-align: middle;\n",
       "    }\n",
       "\n",
       "    .dataframe tbody tr th {\n",
       "        vertical-align: top;\n",
       "    }\n",
       "\n",
       "    .dataframe thead th {\n",
       "        text-align: right;\n",
       "    }\n",
       "</style>\n",
       "<table border=\"1\" class=\"dataframe\">\n",
       "  <thead>\n",
       "    <tr style=\"text-align: right;\">\n",
       "      <th></th>\n",
       "      <th>EstablishmentName</th>\n",
       "      <th>SchoolLevel</th>\n",
       "      <th>DistrictHQDistance (in Km)</th>\n",
       "    </tr>\n",
       "  </thead>\n",
       "  <tbody>\n",
       "    <tr>\n",
       "      <th>0</th>\n",
       "      <td>CHEURIBOTEY GOVERNMENT JUNIOR HIGH SCHOOL (E)</td>\n",
       "      <td>JHS</td>\n",
       "      <td>60.0</td>\n",
       "    </tr>\n",
       "    <tr>\n",
       "      <th>1</th>\n",
       "      <td>PADMA KUMARI PUBLIC SCHOOL, DUGA</td>\n",
       "      <td>JHS</td>\n",
       "      <td>48.0</td>\n",
       "    </tr>\n",
       "    <tr>\n",
       "      <th>2</th>\n",
       "      <td>SAJONG GOVERNMENT JUNIOR HIGH SCHOOL</td>\n",
       "      <td>JHS</td>\n",
       "      <td>57.0</td>\n",
       "    </tr>\n",
       "    <tr>\n",
       "      <th>3</th>\n",
       "      <td>SINGLEYBONG GOVERNMENT JUNIOR HIGH SCHOOL</td>\n",
       "      <td>JHS</td>\n",
       "      <td>38.0</td>\n",
       "    </tr>\n",
       "    <tr>\n",
       "      <th>4</th>\n",
       "      <td>SUNRISE ACADEMY, DUGA</td>\n",
       "      <td>JHS</td>\n",
       "      <td>47.0</td>\n",
       "    </tr>\n",
       "  </tbody>\n",
       "</table>\n",
       "</div>"
      ],
      "text/plain": [
       "                               EstablishmentName SchoolLevel  \\\n",
       "0  CHEURIBOTEY GOVERNMENT JUNIOR HIGH SCHOOL (E)         JHS   \n",
       "1               PADMA KUMARI PUBLIC SCHOOL, DUGA         JHS   \n",
       "2           SAJONG GOVERNMENT JUNIOR HIGH SCHOOL         JHS   \n",
       "3      SINGLEYBONG GOVERNMENT JUNIOR HIGH SCHOOL         JHS   \n",
       "4                          SUNRISE ACADEMY, DUGA         JHS   \n",
       "\n",
       "   DistrictHQDistance (in Km)  \n",
       "0                        60.0  \n",
       "1                        48.0  \n",
       "2                        57.0  \n",
       "3                        38.0  \n",
       "4                        47.0  "
      ]
     },
     "execution_count": 5,
     "metadata": {},
     "output_type": "execute_result"
    }
   ],
   "source": [
    "# Escribe tu consulta SQL en esta cadena\n",
    "sql = \"\"\"SELECT EstablishmentName, SchoolLevel, [DistrictHQDistance (in Km)]\n",
    "FROM school_details\n",
    "WHERE SchoolLevel == 'JHS'\n",
    "\"\"\"\n",
    "# Lee la consulta sql en pandas para ver los resultados\n",
    "df = pd.read_sql_query(sql, engine)\n",
    "df.head()"
   ]
  },
  {
   "cell_type": "markdown",
   "metadata": {},
   "source": [
    "## Muestra NombreEstablecimiento, NivelEscolar, DistanciaDistrito (en km) de colegios que contengan las palabras “Junior High” en su nombre."
   ]
  },
  {
   "cell_type": "code",
   "execution_count": 6,
   "metadata": {},
   "outputs": [
    {
     "name": "stdout",
     "output_type": "stream",
     "text": [
      "2022-03-28 18:18:33,756 INFO sqlalchemy.engine.Engine SELECT EstablishmentName, SchoolLevel, [DistrictHQDistance (in Km)]\n",
      "FROM school_details\n",
      "WHERE EstablishmentName like '%Junior High%'\n",
      "\n",
      "2022-03-28 18:18:33,757 INFO sqlalchemy.engine.Engine [raw sql] ()\n"
     ]
    },
    {
     "data": {
      "text/html": [
       "<div>\n",
       "<style scoped>\n",
       "    .dataframe tbody tr th:only-of-type {\n",
       "        vertical-align: middle;\n",
       "    }\n",
       "\n",
       "    .dataframe tbody tr th {\n",
       "        vertical-align: top;\n",
       "    }\n",
       "\n",
       "    .dataframe thead th {\n",
       "        text-align: right;\n",
       "    }\n",
       "</style>\n",
       "<table border=\"1\" class=\"dataframe\">\n",
       "  <thead>\n",
       "    <tr style=\"text-align: right;\">\n",
       "      <th></th>\n",
       "      <th>EstablishmentName</th>\n",
       "      <th>SchoolLevel</th>\n",
       "      <th>DistrictHQDistance (in Km)</th>\n",
       "    </tr>\n",
       "  </thead>\n",
       "  <tbody>\n",
       "    <tr>\n",
       "      <th>0</th>\n",
       "      <td>CHEURIBOTEY GOVERNMENT JUNIOR HIGH SCHOOL (E)</td>\n",
       "      <td>JHS</td>\n",
       "      <td>60.0</td>\n",
       "    </tr>\n",
       "    <tr>\n",
       "      <th>1</th>\n",
       "      <td>SAJONG GOVERNMENT JUNIOR HIGH SCHOOL</td>\n",
       "      <td>JHS</td>\n",
       "      <td>57.0</td>\n",
       "    </tr>\n",
       "    <tr>\n",
       "      <th>2</th>\n",
       "      <td>SINGLEYBONG GOVERNMENT JUNIOR HIGH SCHOOL</td>\n",
       "      <td>JHS</td>\n",
       "      <td>38.0</td>\n",
       "    </tr>\n",
       "    <tr>\n",
       "      <th>3</th>\n",
       "      <td>BORDANG GOVERNMENT JUNIOR HIGH SCHOOL</td>\n",
       "      <td>JHS</td>\n",
       "      <td>33.0</td>\n",
       "    </tr>\n",
       "    <tr>\n",
       "      <th>4</th>\n",
       "      <td>RANGPO BAZAR GOVERNMENT JUNIOR HIGH SCHOOL</td>\n",
       "      <td>JHS</td>\n",
       "      <td>47.0</td>\n",
       "    </tr>\n",
       "  </tbody>\n",
       "</table>\n",
       "</div>"
      ],
      "text/plain": [
       "                               EstablishmentName SchoolLevel  \\\n",
       "0  CHEURIBOTEY GOVERNMENT JUNIOR HIGH SCHOOL (E)         JHS   \n",
       "1           SAJONG GOVERNMENT JUNIOR HIGH SCHOOL         JHS   \n",
       "2      SINGLEYBONG GOVERNMENT JUNIOR HIGH SCHOOL         JHS   \n",
       "3          BORDANG GOVERNMENT JUNIOR HIGH SCHOOL         JHS   \n",
       "4     RANGPO BAZAR GOVERNMENT JUNIOR HIGH SCHOOL         JHS   \n",
       "\n",
       "   DistrictHQDistance (in Km)  \n",
       "0                        60.0  \n",
       "1                        57.0  \n",
       "2                        38.0  \n",
       "3                        33.0  \n",
       "4                        47.0  "
      ]
     },
     "execution_count": 6,
     "metadata": {},
     "output_type": "execute_result"
    }
   ],
   "source": [
    "# Escribe tu consulta SQL en esta cadena\n",
    "sql = \"\"\"SELECT EstablishmentName, SchoolLevel, [DistrictHQDistance (in Km)]\n",
    "FROM school_details\n",
    "WHERE EstablishmentName like '%Junior High%'\n",
    "\"\"\"\n",
    "# Lee la consulta sql en pandas para ver los resultados\n",
    "df = pd.read_sql_query(sql, engine)\n",
    "df.head()"
   ]
  },
  {
   "cell_type": "markdown",
   "metadata": {},
   "source": [
    "## Muestra NombreEstablecimiento, NivelEscolar, DistanciaDistrito (en km) de colegios cuyo nombre comience con la letra “C”. Ordena los resultados de forma alfabética por nombre de colegio  y limita los resultados de la consulta a 10 líneas."
   ]
  },
  {
   "cell_type": "code",
   "execution_count": 7,
   "metadata": {},
   "outputs": [
    {
     "name": "stdout",
     "output_type": "stream",
     "text": [
      "2022-03-28 18:18:34,106 INFO sqlalchemy.engine.Engine SELECT EstablishmentName, SchoolLevel, [DistrictHQDistance (in Km)]\n",
      "FROM school_details\n",
      "WHERE EstablishmentName like 'C%'\n",
      "ORDER BY EstablishmentName\n",
      "LIMIT 10\n",
      "\n",
      "2022-03-28 18:18:34,106 INFO sqlalchemy.engine.Engine [raw sql] ()\n"
     ]
    },
    {
     "data": {
      "text/html": [
       "<div>\n",
       "<style scoped>\n",
       "    .dataframe tbody tr th:only-of-type {\n",
       "        vertical-align: middle;\n",
       "    }\n",
       "\n",
       "    .dataframe tbody tr th {\n",
       "        vertical-align: top;\n",
       "    }\n",
       "\n",
       "    .dataframe thead th {\n",
       "        text-align: right;\n",
       "    }\n",
       "</style>\n",
       "<table border=\"1\" class=\"dataframe\">\n",
       "  <thead>\n",
       "    <tr style=\"text-align: right;\">\n",
       "      <th></th>\n",
       "      <th>EstablishmentName</th>\n",
       "      <th>SchoolLevel</th>\n",
       "      <th>DistrictHQDistance (in Km)</th>\n",
       "    </tr>\n",
       "  </thead>\n",
       "  <tbody>\n",
       "    <tr>\n",
       "      <th>0</th>\n",
       "      <td>C.M.RAI GOVERNMENT SECONDARY SCHOOL (OMCHU)</td>\n",
       "      <td>SS</td>\n",
       "      <td>26.0</td>\n",
       "    </tr>\n",
       "    <tr>\n",
       "      <th>1</th>\n",
       "      <td>CANAAN SCHOOL, RANIPOOL</td>\n",
       "      <td>JHS</td>\n",
       "      <td>0.0</td>\n",
       "    </tr>\n",
       "    <tr>\n",
       "      <th>2</th>\n",
       "      <td>CANARY BIRD ACADEMY, KARTOK</td>\n",
       "      <td>PS</td>\n",
       "      <td>38.0</td>\n",
       "    </tr>\n",
       "    <tr>\n",
       "      <th>3</th>\n",
       "      <td>CAROL ACADEMY, YANGSUM UPPER BERFOK</td>\n",
       "      <td>JHS</td>\n",
       "      <td>50.0</td>\n",
       "    </tr>\n",
       "    <tr>\n",
       "      <th>4</th>\n",
       "      <td>CENTRAL MARTAM GOVERNMENT JUNIOR SCHOOL</td>\n",
       "      <td>JHS</td>\n",
       "      <td>50.0</td>\n",
       "    </tr>\n",
       "    <tr>\n",
       "      <th>5</th>\n",
       "      <td>CENTRAL PATUK GOVERNMENT PRIMARY SCHOOL</td>\n",
       "      <td>PS</td>\n",
       "      <td>48.0</td>\n",
       "    </tr>\n",
       "    <tr>\n",
       "      <th>6</th>\n",
       "      <td>CENTRAL PENDAM GOVERNMENT SENIOR SECONDARY SCHOOL</td>\n",
       "      <td>SSS</td>\n",
       "      <td>50.0</td>\n",
       "    </tr>\n",
       "    <tr>\n",
       "      <th>7</th>\n",
       "      <td>CENTRAL POINT ACADEMY, CENTRAL PENDAM</td>\n",
       "      <td>SS</td>\n",
       "      <td>49.0</td>\n",
       "    </tr>\n",
       "    <tr>\n",
       "      <th>8</th>\n",
       "      <td>CENTRAL SCHOOL FOR TIBETAN , RAVANGLA</td>\n",
       "      <td>JHS</td>\n",
       "      <td>26.0</td>\n",
       "    </tr>\n",
       "    <tr>\n",
       "      <th>9</th>\n",
       "      <td>CHAKUNG GOVERNMENT SENIOR SECONDARY SCHOOL</td>\n",
       "      <td>SSS</td>\n",
       "      <td>55.0</td>\n",
       "    </tr>\n",
       "  </tbody>\n",
       "</table>\n",
       "</div>"
      ],
      "text/plain": [
       "                                   EstablishmentName SchoolLevel  \\\n",
       "0        C.M.RAI GOVERNMENT SECONDARY SCHOOL (OMCHU)          SS   \n",
       "1                            CANAAN SCHOOL, RANIPOOL         JHS   \n",
       "2                        CANARY BIRD ACADEMY, KARTOK          PS   \n",
       "3                CAROL ACADEMY, YANGSUM UPPER BERFOK         JHS   \n",
       "4            CENTRAL MARTAM GOVERNMENT JUNIOR SCHOOL         JHS   \n",
       "5            CENTRAL PATUK GOVERNMENT PRIMARY SCHOOL          PS   \n",
       "6  CENTRAL PENDAM GOVERNMENT SENIOR SECONDARY SCHOOL         SSS   \n",
       "7              CENTRAL POINT ACADEMY, CENTRAL PENDAM          SS   \n",
       "8              CENTRAL SCHOOL FOR TIBETAN , RAVANGLA         JHS   \n",
       "9         CHAKUNG GOVERNMENT SENIOR SECONDARY SCHOOL         SSS   \n",
       "\n",
       "   DistrictHQDistance (in Km)  \n",
       "0                        26.0  \n",
       "1                         0.0  \n",
       "2                        38.0  \n",
       "3                        50.0  \n",
       "4                        50.0  \n",
       "5                        48.0  \n",
       "6                        50.0  \n",
       "7                        49.0  \n",
       "8                        26.0  \n",
       "9                        55.0  "
      ]
     },
     "execution_count": 7,
     "metadata": {},
     "output_type": "execute_result"
    }
   ],
   "source": [
    "# Escribe tu consulta SQL en esta cadena\n",
    "sql = \"\"\"SELECT EstablishmentName, SchoolLevel, [DistrictHQDistance (in Km)]\n",
    "FROM school_details\n",
    "WHERE EstablishmentName like 'C%'\n",
    "ORDER BY EstablishmentName\n",
    "LIMIT 10\n",
    "\"\"\"\n",
    "# Lee la consulta sql en pandas para ver los resultados\n",
    "df = pd.read_sql_query(sql, engine)\n",
    "df"
   ]
  },
  {
   "cell_type": "markdown",
   "metadata": {},
   "source": [
    "## Muestra los nombres de los colegios de áreas urbanas. Ordena los resultados en orden alfabético inverso."
   ]
  },
  {
   "cell_type": "code",
   "execution_count": 8,
   "metadata": {},
   "outputs": [
    {
     "name": "stdout",
     "output_type": "stream",
     "text": [
      "2022-03-28 18:18:34,729 INFO sqlalchemy.engine.Engine SELECT EstablishmentName\n",
      "FROM school_details\n",
      "WHERE LocatedInRuralOrUrban = 'Urban Area'\n",
      "ORDER BY EstablishmentName DESC\n",
      "\n",
      "2022-03-28 18:18:34,729 INFO sqlalchemy.engine.Engine [raw sql] ()\n"
     ]
    },
    {
     "data": {
      "text/html": [
       "<div>\n",
       "<style scoped>\n",
       "    .dataframe tbody tr th:only-of-type {\n",
       "        vertical-align: middle;\n",
       "    }\n",
       "\n",
       "    .dataframe tbody tr th {\n",
       "        vertical-align: top;\n",
       "    }\n",
       "\n",
       "    .dataframe thead th {\n",
       "        text-align: right;\n",
       "    }\n",
       "</style>\n",
       "<table border=\"1\" class=\"dataframe\">\n",
       "  <thead>\n",
       "    <tr style=\"text-align: right;\">\n",
       "      <th></th>\n",
       "      <th>EstablishmentName</th>\n",
       "    </tr>\n",
       "  </thead>\n",
       "  <tbody>\n",
       "    <tr>\n",
       "      <th>0</th>\n",
       "      <td>ZULUCK GOVERNMENT PRIMARY SCHOOL</td>\n",
       "    </tr>\n",
       "    <tr>\n",
       "      <th>1</th>\n",
       "      <td>ZOOM GOVERNMENT SECONDARY SCHOOL</td>\n",
       "    </tr>\n",
       "    <tr>\n",
       "      <th>2</th>\n",
       "      <td>ZITLANG GOVERNMENT JUNIOR HIGH SCHOOL</td>\n",
       "    </tr>\n",
       "    <tr>\n",
       "      <th>3</th>\n",
       "      <td>ZINGLA GOVERNMENT PRIMARY SCHOOL</td>\n",
       "    </tr>\n",
       "    <tr>\n",
       "      <th>4</th>\n",
       "      <td>ZENITH PUBLIC SCHOOL</td>\n",
       "    </tr>\n",
       "  </tbody>\n",
       "</table>\n",
       "</div>"
      ],
      "text/plain": [
       "                       EstablishmentName\n",
       "0       ZULUCK GOVERNMENT PRIMARY SCHOOL\n",
       "1       ZOOM GOVERNMENT SECONDARY SCHOOL\n",
       "2  ZITLANG GOVERNMENT JUNIOR HIGH SCHOOL\n",
       "3       ZINGLA GOVERNMENT PRIMARY SCHOOL\n",
       "4                   ZENITH PUBLIC SCHOOL"
      ]
     },
     "execution_count": 8,
     "metadata": {},
     "output_type": "execute_result"
    }
   ],
   "source": [
    "# Escribe tu consulta SQL en esta cadena\n",
    "sql = \"\"\"SELECT EstablishmentName\n",
    "FROM school_details\n",
    "WHERE LocatedInRuralOrUrban = 'Urban Area'\n",
    "ORDER BY EstablishmentName DESC\n",
    "\"\"\"\n",
    "# Lee la consulta sql en pandas para ver los resultados\n",
    "df = pd.read_sql_query(sql, engine)\n",
    "df.head()"
   ]
  },
  {
   "cell_type": "markdown",
   "metadata": {},
   "source": [
    "## Repite la consulta anterior, pero renombra la columna que se muestra como “nombre”."
   ]
  },
  {
   "cell_type": "code",
   "execution_count": 9,
   "metadata": {},
   "outputs": [
    {
     "name": "stdout",
     "output_type": "stream",
     "text": [
      "2022-03-28 18:18:35,594 INFO sqlalchemy.engine.Engine SELECT EstablishmentName as nombre\n",
      "FROM school_details\n",
      "WHERE LocatedInRuralOrUrban = 'Urban Area'\n",
      "ORDER BY EstablishmentName DESC\n",
      "\n",
      "2022-03-28 18:18:35,595 INFO sqlalchemy.engine.Engine [raw sql] ()\n"
     ]
    },
    {
     "data": {
      "text/html": [
       "<div>\n",
       "<style scoped>\n",
       "    .dataframe tbody tr th:only-of-type {\n",
       "        vertical-align: middle;\n",
       "    }\n",
       "\n",
       "    .dataframe tbody tr th {\n",
       "        vertical-align: top;\n",
       "    }\n",
       "\n",
       "    .dataframe thead th {\n",
       "        text-align: right;\n",
       "    }\n",
       "</style>\n",
       "<table border=\"1\" class=\"dataframe\">\n",
       "  <thead>\n",
       "    <tr style=\"text-align: right;\">\n",
       "      <th></th>\n",
       "      <th>nombre</th>\n",
       "    </tr>\n",
       "  </thead>\n",
       "  <tbody>\n",
       "    <tr>\n",
       "      <th>0</th>\n",
       "      <td>ZULUCK GOVERNMENT PRIMARY SCHOOL</td>\n",
       "    </tr>\n",
       "    <tr>\n",
       "      <th>1</th>\n",
       "      <td>ZOOM GOVERNMENT SECONDARY SCHOOL</td>\n",
       "    </tr>\n",
       "    <tr>\n",
       "      <th>2</th>\n",
       "      <td>ZITLANG GOVERNMENT JUNIOR HIGH SCHOOL</td>\n",
       "    </tr>\n",
       "    <tr>\n",
       "      <th>3</th>\n",
       "      <td>ZINGLA GOVERNMENT PRIMARY SCHOOL</td>\n",
       "    </tr>\n",
       "    <tr>\n",
       "      <th>4</th>\n",
       "      <td>ZENITH PUBLIC SCHOOL</td>\n",
       "    </tr>\n",
       "  </tbody>\n",
       "</table>\n",
       "</div>"
      ],
      "text/plain": [
       "                                  nombre\n",
       "0       ZULUCK GOVERNMENT PRIMARY SCHOOL\n",
       "1       ZOOM GOVERNMENT SECONDARY SCHOOL\n",
       "2  ZITLANG GOVERNMENT JUNIOR HIGH SCHOOL\n",
       "3       ZINGLA GOVERNMENT PRIMARY SCHOOL\n",
       "4                   ZENITH PUBLIC SCHOOL"
      ]
     },
     "execution_count": 9,
     "metadata": {},
     "output_type": "execute_result"
    }
   ],
   "source": [
    "# Escribe tu consulta SQL en esta cadena\n",
    "sql = \"\"\"SELECT EstablishmentName as nombre\n",
    "FROM school_details\n",
    "WHERE LocatedInRuralOrUrban = 'Urban Area'\n",
    "ORDER BY EstablishmentName DESC\n",
    "\"\"\"\n",
    "# Lee la consulta sql en pandas para ver los resultados\n",
    "df = pd.read_sql_query(sql, engine)\n",
    "df.head()"
   ]
  }
 ],
 "metadata": {
  "interpreter": {
   "hash": "a1cd9de8a37a57a7ab3c8cb5579f3e00430c5d4c5e4f0435b0487e1f9c86875a"
  },
  "kernelspec": {
   "display_name": "Python 3.7.11 ('env37')",
   "language": "python",
   "name": "python3"
  },
  "language_info": {
   "codemirror_mode": {
    "name": "ipython",
    "version": 3
   },
   "file_extension": ".py",
   "mimetype": "text/x-python",
   "name": "python",
   "nbconvert_exporter": "python",
   "pygments_lexer": "ipython3",
   "version": "3.7.11"
  },
  "orig_nbformat": 4
 },
 "nbformat": 4,
 "nbformat_minor": 2
}
